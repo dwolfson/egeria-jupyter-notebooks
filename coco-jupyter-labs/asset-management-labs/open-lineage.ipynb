{
 "cells": [
  {
   "cell_type": "markdown",
   "metadata": {},
   "source": [
    "![Egeria Logo](https://raw.githubusercontent.com/odpi/egeria/main/assets/img/ODPi_Egeria_Logo_color.png)\n",
    "\n",
    "### Egeria Hands-On Lab\n",
    "# Welcome to the Open Lineage Lab"
   ],
   "id": "4ca9df1807d95128"
  },
  {
   "cell_type": "markdown",
   "metadata": {},
   "source": [
    "## Introduction\n",
    "\n",
    "Egeria is an open source project that provides open standards and implementation libraries to connect tools, catalogs and platforms together so they can share information (called metadata) about data and the technology that supports it.\n",
    "\n",
    "In this hands-on lab you will get a chance to work with Egeria metadata and governance servers and learn how to manually create  metadata to describe lineage for data movement processes. For this purpose we use **Open Lineage Services** governance server solution designed to capture and manage a historical warehouse of lineage information.\n",
    "We will also show how using General **Egeria UI** you can search data assets and visualize lineage previously created.\n",
    "\n",
    "To read more about lineage concepts and features in Egeria, see https://egeria-project.org/features/lineage-management/overview/."
   ],
   "id": "cef2d7a16533a9a2"
  },
  {
   "cell_type": "markdown",
   "metadata": {
    "tags": []
   },
   "source": [
    "## The Scenario\n",
    "\n",
    "The Egeria team use the personas and scenarios from the fictitious company called [Coco Pharmaceuticals](https://egeria-project.org/practices/coco-pharmaceuticals/).\n",
    "\n",
    "On their business transformation journey after they successfully created data catalog for the data lake, new challenge emerges. Due to regulatory requirements, business came up with request to improve data traceability. Introducing data lineage for critical data flows was ideal use-case for the next level of maturity in their governance program.\n",
    "\n",
    "In this lab we discover how to manually catalogue data assets in the data lake and describe data movement for simple data transformation process executed by their in-house built ETL tool. Finally, the users can find data assets and visualize end to end lineage in the web UI.\n",
    "\n",
    "Peter Profile and Erin Overview got assigned to work on a solution to capture and report data lineage using Egeria. \n"
   ],
   "id": "3fbb3c0c2102f0b3"
  },
  {
   "attachments": {},
   "cell_type": "markdown",
   "metadata": {},
   "source": [
    "## Setting up\n",
    "\n",
    "Coco Pharmaceuticals make widespread use of Egeria for tracking and managing their data and related assets.\n",
    "Figure 1 below shows their metadata servers and the Open Metadata and Governance (OMAG) Server Platforms that are hosting them.  Each metadata server supports a department in the organization.  The servers are distributed across the platform to even out the workload.  Servers can be moved to a different platform if needed.\n",
    "\n",
    "![Figure 1](../images/coco-pharmaceuticals-systems-omag-server-platforms-metadata-server.png)\n",
    "> **Figure 1:** Coco Pharmaceuticals' OMAG Server Platforms\n",
    "\n",
    "For the scope of this lab, we are going to interact with two servers hosted on Data Lake platform:\n",
    " - `cocoMDS1` as metadata repository to store all the assets;\n",
    " - `cocoOLS1` as dedicated governance server to enable open lineage services and historical lineage repository;\n",
    " \n",
    " - `UI platform` running the APIs to support Egeria UI application. \n",
    " \n",
    " > **Important**: When running this lab using [`kubernetes deployment`](https://odpi.github.io/egeria-docs/guides/operations/kubernetes/charts/lab/) the UI Platform is already configured and started for you.\n",
    "\n",
    "The code below checks that the platforms are running.  It checks that the servers are configured and then if they are running on the platform.  If a server is configured, but not running, it will start it.\n",
    "\n",
    "Look for the \"Done.\" message.  This appears when `environment-check` has finished.\n"
   ],
   "id": "7ecbb35072c3f99e"
  },
  {
   "cell_type": "code",
   "execution_count": null,
   "metadata": {},
   "outputs": [],
   "source": [
    "%run ../common/common-functions.ipynb\n",
    "%run ../common/environment-check.ipynb"
   ],
   "id": "4eeee813d9ebafcb"
  },
  {
   "cell_type": "markdown",
   "metadata": {},
   "source": [
    "## Excercise 1 \n",
    "\n",
    "### Capturing lineage manually\n",
    "\n",
    "In this exercise Peter and Erin will start with minimal use-case and execute steps to create lineage manually. They are looking at simple high level transformation activity implemented using CocoETL, in-house developed ETL tool that uses python scripting language. Files from previous clinical trials are stored on server location accessible by the tool. `ConvertFileToCSV` is script that reads file coming out of legacy system of records and transform it to csv file structure.\n",
    "\n",
    "![Figure 2](../images/open-lineage-service-lab-assets.png)\n",
    "> Figure 2: Simple asset lineage\n",
    "\n",
    "\n",
    "For use-cases like this one, **Data Engine Access Service (OMAS)** API seems perfect match. It enables external data platforms, tools or engines to interact with Egeria and share metadata needed to construct lineage graph.\n"
   ],
   "id": "3f47107a90d1abb3"
  },
  {
   "cell_type": "markdown",
   "metadata": {},
   "source": [
    "#### Check if assets are present in the catalog\n",
    "\n",
    "At first, Erin wants to be sure upfront that the assets are not present in the catalog. She uses Egeria UI Asset Catalog search option but fist she needs to log in.\n",
    "\n",
    "> **Important:** When running this lab using kubernetes deployment, make sure that you [expose the Egeria UI](https://odpi.github.io/egeria-docs/guides/operations/kubernetes/charts/lab/#accessing-the-egeria-ui) running in the container to your local network and access it via localhost.\n",
    "\n",
    "\n",
    "\n",
    "To access Egeria UI go to https://localhost:8443/ \n",
    "    \n",
    "    username: erinoverview\n",
    "    password: secret\n",
    "\n",
    "![Erin Logon](../images/egeria-ui-erin-logon.png)\n",
    "> **Figure 3** Log on as Erin Overview"
   ],
   "id": "943329578ad6a8f9"
  },
  {
   "attachments": {},
   "cell_type": "markdown",
   "metadata": {},
   "source": [
    "Erin already knows the descriptive name of the data file asset in interest so she inputs the text \"archive\" in the search box and selects type `Asset` from the list.\n",
    "\n",
    "![Search field input](../images/egeria-ui-asset-catalog-search-field-input.png) \n",
    "> **Figure 4** Assets search\n",
    "\n",
    "The UI doesn't display any entries, meaning no asset matching this input was found. This is expected since at this moment the assets are not yet created.\n",
    "\n",
    "![No assets found](../images/egeria-ui-asset-catalog-no-rows.png)\n",
    "> **Figure 5** No assets found"
   ],
   "id": "71a0ac15ae88da62"
  },
  {
   "cell_type": "markdown",
   "metadata": {},
   "source": [
    "#### Adding assets in the catalog\n",
    "\n",
    "Peter is now ready to start creating assets using API calls. He is using Data Engine Access Service (OMAS) REST API available on Data Lake Platform `cocoMDS1` metadata server."
   ],
   "id": "40a2266f05e8d315"
  },
  {
   "cell_type": "code",
   "execution_count": null,
   "metadata": {},
   "outputs": [],
   "source": [
    "platformURL         = dataLakePlatformURL\n",
    "serverName          = \"cocoMDS1\""
   ],
   "id": "5fe0fbaf44ff1005"
  },
  {
   "cell_type": "markdown",
   "metadata": {},
   "source": [
    "To ba able to call Data Engine OMAS endpoints, parameters like unique qualified name of the tool and service account are required."
   ],
   "id": "317c60947122c7de"
  },
  {
   "cell_type": "code",
   "execution_count": null,
   "metadata": {},
   "outputs": [],
   "source": [
    "cocoETLName         = \"CocoPharma/DataEngine/CocoETL\"\n",
    "cocoETLUser         = \"cocoETLnpa\"\n",
    "dataEngineOMASEndpoint = platformURL + '/servers/' + serverName + '/open-metadata/access-services/data-engine/users/' + cocoETLUser"
   ],
   "id": "7d74e64f1116e60e"
  },
  {
   "cell_type": "markdown",
   "metadata": {},
   "source": [
    "##### Step 1 - Register the tool\n",
    "\n",
    "External systems interacting with Egeria using Data Engine OMAS need to be registered first. This step is required only once as long as the cocoETLName does not change.\n",
    "In our case, to register the tool properly Peter provides descriptive information that will be useful for others to understand as many details possible about the characteristics of the external source of metadata."
   ],
   "id": "87b3906b8fb673d1"
  },
  {
   "cell_type": "code",
   "execution_count": null,
   "metadata": {},
   "outputs": [],
   "source": [
    "\n",
    "url = dataEngineOMASEndpoint + '/registration'\n",
    "\n",
    "requestBody = {\n",
    "    \"dataEngine\":\n",
    "        {\n",
    "            \"qualifiedName\": cocoETLName,\n",
    "            \"displayName\": \"CocoETL\",\n",
    "            \"description\": \"Requesting to register external data engine capability for Coco Pharmaceuticals in-house Data Platform ETL tool CocoETL.\",\n",
    "            \"engineType\": \"DataEngine\",\n",
    "            \"engineVersion\": \"1\",\n",
    "            \"enginePatchLevel\": \"0\",\n",
    "            \"vendor\": \"Coco Pharmaceuticals\",\n",
    "            \"version\": \"1\",\n",
    "            \"source\": \"CocoPharma\"\n",
    "        }\n",
    "}\n",
    "\n",
    "\n",
    "print(requestBody)\n",
    "postAndPrintResult(url, json=requestBody, headers=None)\n"
   ],
   "id": "e2e34e3876294fad"
  },
  {
   "cell_type": "markdown",
   "metadata": {},
   "source": [
    "At this point, the tool is properly registered and its name can be used as *externalSourceName* further on.\n",
    "\n",
    "> Note: This information gets stored as [`SoftwareCapability`](https://egeria-project.org/types/0/0042-Software-Capabilities) in Egeria."
   ],
   "id": "7736d22109de9376"
  },
  {
   "cell_type": "markdown",
   "metadata": {
    "tags": []
   },
   "source": [
    "##### Step 2 - Create file assets\n",
    "Lets look at the files. They are stored in well know server location defined by the networkAddress and filesystem location."
   ],
   "id": "f0303c8128c8b543"
  },
  {
   "cell_type": "code",
   "execution_count": null,
   "metadata": {},
   "outputs": [],
   "source": [
    "networkAddress      = \"filesrv01.coco.net\"\n",
    "filesRoot           = \"file://secured/research/previous-clinical-trials/\""
   ],
   "id": "d1b3e73b58782475"
  },
  {
   "cell_type": "markdown",
   "metadata": {},
   "source": [
    "Peter onboards the source file `old-archive.dat`. He is using [DataFile](https://egeria-project.org/types/2/0220-Files-and-Folders/) as fileType. "
   ],
   "id": "ce873ef0e85073cb"
  },
  {
   "cell_type": "code",
   "execution_count": null,
   "metadata": {},
   "outputs": [],
   "source": [
    "\n",
    "url = dataEngineOMASEndpoint + '/data-files'\n",
    "\n",
    "fileName1 = \"old-archive.dat\"\n",
    "filePath1 = filesRoot + fileName1\n",
    "fileQualifiedName1 = filePath1 + \"@\" + cocoETLName\n",
    "\n",
    "requestFileBody = {\n",
    "    \"externalSourceName\": cocoETLName,\n",
    "    \"file\": {\n",
    "        \"fileType\": \"DataFile\",\n",
    "        \"qualifiedName\": fileQualifiedName1,\n",
    "        \"displayName\": fileName1,\n",
    "        \"pathName\": filePath1,\n",
    "        \"networkAddress\": networkAddress,\n",
    "        \"columns\": []\n",
    "    }\n",
    "}\n",
    "\n",
    "print(requestFileBody)\n",
    "postAndPrintResult(url, json=requestFileBody, headers=None)\n"
   ],
   "id": "e894063f718acd78"
  },
  {
   "cell_type": "markdown",
   "metadata": {},
   "source": [
    "Next, he calls the same endpoint but this time for the destination file `old-archive.csv`. He is using [CSVFile](https://egeria-project.org/types/2/0220-Files-and-Folders/) as fileType."
   ],
   "id": "b52ad4c663310b0b"
  },
  {
   "cell_type": "code",
   "execution_count": null,
   "metadata": {},
   "outputs": [],
   "source": [
    "\n",
    "url = dataEngineOMASEndpoint + '/data-files'\n",
    "\n",
    "fileName2 = \"old-archive.csv\"\n",
    "filePath2 = filesRoot + fileName2\n",
    "fileQualifiedName2 = filePath2 + \"@\" + cocoETLName\n",
    "\n",
    "requestFileBody = {\n",
    "    \"externalSourceName\": cocoETLName,\n",
    "    \"file\": {\n",
    "        \"fileType\": \"CSVFile\",\n",
    "        \"qualifiedName\": fileQualifiedName2,\n",
    "        \"displayName\": fileName2,\n",
    "        \"pathName\": filePath2,\n",
    "        \"networkAddress\": networkAddress,\n",
    "        \"columns\": []\n",
    "    }\n",
    "}\n",
    "\n",
    "print(requestFileBody)\n",
    "postAndPrintResult(url, json=requestFileBody, headers=None)\n"
   ],
   "id": "9d3b844fc0c72204"
  },
  {
   "cell_type": "markdown",
   "metadata": {},
   "source": [
    "> Note that in both calls, that the columns are not provided because in this exercise we are only focusing on the high level lineage without providing schema level details.\n",
    "\n",
    "##### Step 3 - Create process assets\n",
    "Using adequate name and description for the activity, he then requests new asset to represent the process."
   ],
   "id": "de291550f6dd87b4"
  },
  {
   "cell_type": "code",
   "execution_count": null,
   "metadata": {},
   "outputs": [],
   "source": [
    "\n",
    "url = dataEngineOMASEndpoint + '/processes'\n",
    "\n",
    "activityName = \"ConvertFileToCSV\"\n",
    "processQualifiedName = activityName + \"@\" + cocoETLName\n",
    "\n",
    "requestProcessBody = {\n",
    "    \"process\":\n",
    "        {\n",
    "            \"qualifiedName\": processQualifiedName,\n",
    "            \"displayName\": activityName,\n",
    "            \"name\": activityName,\n",
    "            \"description\": \"Process named 'ConvertFileToCSV' representing high level processing activity performed by CocoETL tool.\",\n",
    "            \"owner\": cocoETLUser,\n",
    "            \"updateSemantic\": \"REPLACE\"\n",
    "        },\n",
    "    \"externalSourceName\": cocoETLName\n",
    "}\n",
    "\n",
    "print(requestProcessBody)\n",
    "postAndPrintResult(url, json=requestProcessBody, headers=None)\n"
   ],
   "id": "1e6a7d62ac04ab98"
  },
  {
   "cell_type": "markdown",
   "metadata": {},
   "source": [
    "Well done. At this point all the assets are stored in the catalog."
   ],
   "id": "b8ede3196e27295"
  },
  {
   "cell_type": "markdown",
   "metadata": {},
   "source": [
    "#### Adding data flows in the catalog"
   ],
   "id": "449a93983137b9fe"
  },
  {
   "cell_type": "markdown",
   "metadata": {},
   "source": [
    "Finally, he needs to send the data flows connecting the assets. This is done using their fully qualified names."
   ],
   "id": "79f4a8fa64eaaa07"
  },
  {
   "cell_type": "code",
   "execution_count": null,
   "metadata": {},
   "outputs": [],
   "source": [
    "\n",
    "url = dataEngineOMASEndpoint + '/data-flows'\n",
    "\n",
    "requestDataFlowsBody = {\n",
    "    \"dataFlows\": [\n",
    "        {\n",
    "            \"dataSupplier\": fileQualifiedName1,\n",
    "            \"dataConsumer\": processQualifiedName\n",
    "        },\n",
    "        {\n",
    "            \"dataSupplier\": processQualifiedName,\n",
    "            \"dataConsumer\": fileQualifiedName2\n",
    "        }\n",
    "    ],\n",
    "    \"externalSourceName\": cocoETLName\n",
    "}\n",
    "\n",
    "print(requestDataFlowsBody)\n",
    "postAndPrintResult(url, json=requestDataFlowsBody, headers=None)\n"
   ],
   "id": "ec312e83b8de9f8b"
  },
  {
   "cell_type": "markdown",
   "metadata": {},
   "source": [
    "#### Finding assets in the UI and showing lineage"
   ],
   "id": "78678da87df1592f"
  },
  {
   "attachments": {},
   "cell_type": "markdown",
   "metadata": {},
   "source": [
    "Erin is ready to inspect the catalog again. She goes back to the search page and searches the text \"archive\".\n",
    "This time, she is able to find the file assets Peter created in the previous steps.\n",
    "\n",
    "> Tip: Once logged on, Erin can directly navigate to the search results using https://localhost:8443/assets/catalog?q=archive&types=Asset"
   ],
   "id": "fd151ec4f800f5c8"
  },
  {
   "cell_type": "markdown",
   "metadata": {},
   "source": [
    "![Figure 1](../images/egeria-ui-asset-catalog-archive-search-results.png)"
   ],
   "id": "121a08afe2536dcc"
  },
  {
   "cell_type": "markdown",
   "metadata": {},
   "source": [
    "Clicking one of the file names, she can access the details page."
   ],
   "id": "958eedeed3d935e"
  },
  {
   "cell_type": "markdown",
   "metadata": {},
   "source": [
    "![Figure 1](../images/egeria-ui-asset-end-to-end-lineage.png)"
   ],
   "id": "8ff27ee3817a11f0"
  },
  {
   "attachments": {},
   "cell_type": "markdown",
   "metadata": {},
   "source": [
    "To inspect the lineage graph, Erin clicks on `end-to-end`."
   ],
   "id": "8265e6b06042a297"
  },
  {
   "cell_type": "markdown",
   "metadata": {},
   "source": [
    "![Figure 1](../images/egeria-ui-end-to-end-lineage-graph.png)"
   ],
   "id": "55469053e58f72ed"
  },
  {
   "cell_type": "markdown",
   "metadata": {},
   "source": [
    "This step completes **Exercise 1**."
   ],
   "id": "652108436002b850"
  },
  {
   "cell_type": "code",
   "execution_count": null,
   "metadata": {},
   "outputs": [],
   "source": [],
   "id": "ff2f4333355e8e54"
  }
 ],
 "metadata": {
  "kernelspec": {
   "display_name": "Python 3",
   "language": "python",
   "name": "python3"
  },
  "language_info": {
   "codemirror_mode": {
    "name": "ipython",
    "version": 3
   },
   "file_extension": ".py",
   "mimetype": "text/x-python",
   "name": "python",
   "nbconvert_exporter": "python",
   "pygments_lexer": "ipython3",
   "version": "3.7.3"
  }
 },
 "nbformat": 4,
 "nbformat_minor": 5
}
