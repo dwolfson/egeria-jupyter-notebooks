{
 "cells": [
  {
   "cell_type": "code",
   "execution_count": null,
   "id": "836492b8-ca00-4581-b374-1f5998f2c1a7",
   "metadata": {},
   "outputs": [],
   "source": [
    "%pip install jupyter-rich\n"
   ]
  },
  {
   "cell_type": "code",
   "execution_count": null,
   "id": "2090ec84-9407-4443-8eef-043084a02771",
   "metadata": {},
   "outputs": [],
   "source": [
    "pip install jupyter-rich\n"
   ]
  },
  {
   "cell_type": "code",
   "execution_count": null,
   "id": "1dca6471-2ad2-4170-b2be-c5944a15f8dd",
   "metadata": {},
   "outputs": [],
   "source": [
    "from rich.jupyter import print\n",
    "print(\"meow.[bold magenta]\")"
   ]
  },
  {
   "cell_type": "code",
   "execution_count": null,
   "id": "44d6b629-c4e3-4e61-a66a-e4e56bf55436",
   "metadata": {},
   "outputs": [],
   "source": [
    "from rich.__main__ import make_test_card"
   ]
  },
  {
   "cell_type": "code",
   "execution_count": null,
   "id": "6e264b4a-2a97-4d73-b2b7-247ef933415f",
   "metadata": {},
   "outputs": [],
   "source": [
    "print(make_test_card())"
   ]
  },
  {
   "cell_type": "code",
   "execution_count": null,
   "id": "9baf6cae-fc25-4e18-bdbb-c94f1ca01c41",
   "metadata": {},
   "outputs": [],
   "source": [
    "%ls\n",
    "\n"
   ]
  },
  {
   "cell_type": "code",
   "execution_count": null,
   "id": "58253ca3-508e-4194-864c-9f13d7e5e863",
   "metadata": {},
   "outputs": [],
   "source": [
    "%run /work/view_coco_status.py"
   ]
  },
  {
   "cell_type": "code",
   "execution_count": 5,
   "id": "bce8283e-1303-43a5-8475-a958ea52f5b9",
   "metadata": {},
   "outputs": [],
   "source": [
    "import asyncio\n",
    "import nest_asyncio\n",
    "nest_asyncio.apply()"
   ]
  },
  {
   "cell_type": "code",
   "execution_count": null,
   "id": "6c55f60c-d61b-49d9-8094-95e3dcdc908e",
   "metadata": {},
   "outputs": [
    {
     "data": {
      "application/vnd.jupyter.widget-view+json": {
       "model_id": "e9e6659ec2ff461094d6c3578f90c7f8",
       "version_major": 2,
       "version_minor": 0
      },
      "text/plain": [
       "Output()"
      ]
     },
     "metadata": {},
     "output_type": "display_data"
    }
   ],
   "source": [
    "%run /home/jovyan/work/view_coco_status.py"
   ]
  },
  {
   "cell_type": "code",
   "execution_count": null,
   "id": "04b30815-6146-47c4-8919-45513e0a5670",
   "metadata": {},
   "outputs": [],
   "source": []
  }
 ],
 "metadata": {
  "kernelspec": {
   "display_name": "Python 3 (ipykernel)",
   "language": "python",
   "name": "python3"
  },
  "language_info": {
   "codemirror_mode": {
    "name": "ipython",
    "version": 3
   },
   "file_extension": ".py",
   "mimetype": "text/x-python",
   "name": "python",
   "nbconvert_exporter": "python",
   "pygments_lexer": "ipython3",
   "version": "3.11.9"
  }
 },
 "nbformat": 4,
 "nbformat_minor": 5
}
