{
 "cells": [
  {
   "cell_type": "code",
   "execution_count": null,
   "metadata": {},
   "outputs": [],
   "source": [
    "#\n",
    "# This file contains the common functions and definitions used in all Egeria Hands on\n",
    "# Lab Notebooks. Typically these will be system-wide functions and common environment settings\n",
    "#\n",
    "\n",
    "\n",
    "#\n",
    "# Disable certificate checking for local development use with self-signed certificate \n",
    "#\n",
    "\n",
    "import urllib3\n",
    "urllib3.disable_warnings(urllib3.exceptions.InsecureRequestWarning)\n",
    "\n",
    "import os\n",
    "os.environ['CURL_CA_BUNDLE'] = ''\n",
    "\n",
    "#\n",
    "# This is the location of the file system that is used in the lab.  It defaults to a \"data\" subfolder in\n",
    "# the platform's home folder.  Here you will finc the runtime files of the platforms and the data files\n",
    "# used in various labs.  The default value can be overridden using the \"fileSystemRoot\" environment variable.\n",
    "#\n",
    "fileSystemRoot = os.environ.get('fileSystemRoot', 'data')\n",
    "\n",
    "#\n",
    "# Flag to enable debug, this cases extra information to be printed including rest calls request and response details\n",
    "# Switching this flag to True produces a very large amount of output and is not recommended.\n",
    "# A targeted use of this flag is recommended, set this before and reset this after the code you would like to produce debug\n",
    "#\n",
    "isDebug = False"
   ]
  }
 ],
 "metadata": {
  "kernelspec": {
   "display_name": "Python 3 (ipykernel)",
   "language": "python",
   "name": "python3"
  },
  "language_info": {
   "codemirror_mode": {
    "name": "ipython",
    "version": 3
   },
   "file_extension": ".py",
   "mimetype": "text/x-python",
   "name": "python",
   "nbconvert_exporter": "python",
   "pygments_lexer": "ipython3",
   "version": "3.11.9"
  }
 },
 "nbformat": 4,
 "nbformat_minor": 4
}
