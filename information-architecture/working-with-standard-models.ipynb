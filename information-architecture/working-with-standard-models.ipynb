{
 "cells": [
  {
   "cell_type": "markdown",
   "metadata": {},
   "source": [
    "![Egeria Logo](https://raw.githubusercontent.com/odpi/egeria/main/assets/img/ODPi_Egeria_Logo_color.png)\n",
    "\n",
    "### Egeria Hands-On Lab\n",
    "# Welcome to the Working with Standard Models Lab"
   ]
  },
  {
   "cell_type": "markdown",
   "metadata": {},
   "source": [
    "## Introduction\n",
    "\n",
    "Egeria is an open source project that provides open standards and implementation libraries to connect tools, catalogs and platforms together so they can share information (called metadata) about data and the technology that supports it.\n",
    "\n",
    "In this hands-on lab you will get to use Egeria to load and view a glossary.\n",
    "\n",
    "Such definitions are provided by specialist organizations, consortiums and other types of industry groups to capture a description of the data that is typically used in a specific scenario.  Often the model includes descriptive information as well as structural information documenting how the data is organized and linked together.\n",
    "\n",
    "In this lab, we are going to work with the Cloud Information Model (CIM).  This model covers the following subject areas:\n",
    "\n",
    "* Party – people, their roles and organizations.\n",
    "* Product – product descriptions, structures and packaging.\n",
    "* Sales Order – customer orders for goods and services.\n",
    "* Payment Method – payment methods including cards, coupons and digital wallets.\n",
    "* Payment – individual payments for goods and services.\n",
    "* Shipment – shipment of goods and services to the customer to fulfil an order.\n",
    "\n",
    "This means the CIM can provide common definitions for new services spanning customer and employee interaction around typical commercial activities such as buying and selling of goods and services.\n",
    "\n",
    "The motivation behind the cloud information model is to support organizations that are transforming their digital services to run on a variety of cloud platforms and with their own data centres.  Often, they are dealing with systems built on many different generations of technology, with data distributed amongst them.  The CIM provides a common language to describe the different types of data.\n",
    "\n",
    "This is extremely valuable to the open metadata and governance ecosystem with its focus on building an open and transparent view of data across an organization. \n",
    "\n",
    "This lab notebook enables you to explore the contents of the CIM and explains how it can help you when setting up your own open metadata and governance ecosystem.\n"
   ]
  },
  {
   "cell_type": "markdown",
   "metadata": {},
   "source": [
    "## The scenario\n",
    "\n",
    "<img src=\"https://raw.githubusercontent.com/odpi/egeria-docs/main/site/docs/practices/coco-pharmaceuticals/personas/erin-overview.png\" style=\"float:left\">\n",
    "\n",
    "The Egeria team use the personas and scenarios from the fictitious company called [Coco Pharmaceuticals](https://egeria-project.org/practices/coco-pharmaceuticals/) for more information).\n",
    "\n",
    "In this lab, we are joining **Erin Overview**, their information architect, as she works through the changes needed to their sales and supply chain processes to support the shift from selling traditional generic medicines to personalized medicine.\n",
    "Erin's userId is `erinoverview`."
   ]
  },
  {
   "cell_type": "code",
   "metadata": {},
   "source": [
    "\n",
    "erinsUserId  = \"erinoverview\"\n"
   ],
   "outputs": [],
   "execution_count": null
  },
  {
   "cell_type": "markdown",
   "metadata": {},
   "source": [
    "\n",
    "\n",
    "<img src=\"https://raw.githubusercontent.com/odpi/egeria-docs/main/site/docs/practices/coco-pharmaceuticals/personas/harry-hopeful.png\" style=\"float:right\">\n",
    "\n",
    "Erin is working with **Harry Hopeful** from sales on how the hospitals will order products, issue invoices and make payments.\n",
    "He has been talking to a number of the hospitals who are customer's of Coco Pharmaceuticals.  In general the hospitals are supportive of the new approach.  They see that they will not need to keep so much inventory since orders are per patient and just when needed.  All parties agree, however, that they need to protect the privacy of the patients and medical staff involved and not accidentally leak personal details through the order fulfillment process.\n",
    "\n",
    "They need a clear definition of the process and how vital documents such as orders and invoices are filled out and protected. Erin volunteers to create a draft of the process and the associated data model.  She wants to use application independent terms in her definitions since they all use different systems.  She decides to use the CIM since it covers their problem space.\n"
   ]
  },
  {
   "cell_type": "markdown",
   "metadata": {},
   "source": [
    "## Setting up\n",
    "\n",
    "Coco Pharmaceuticals makes widespread use of Egeria for tracking and managing their data and related assets.\n",
    "Figure 1 below shows their metadata servers and the Open Metadata and Governance (OMAG) Server Platforms that are hosting them.  Each metadata server supports a department in the organization.  The servers are distributed across the platform to even out the workload.  Servers can be moved to a different platform if needed.\n",
    "\n",
    "![Figure 1](../images/coco-pharmaceuticals-systems-omag-server-platforms-metadata-server.png)\n",
    "> **Figure 1:** Coco Pharmaceuticals' OMAG Server Platforms\n",
    "\n",
    "The code below checks that the platforms are running.  It checks that the servers are configured and then if they are running on the platform.  If a server is configured, but not running, it will start it.\n",
    "\n",
    "Look for the \"Done.\" message.  This appears when `environment-check` has finished.\n",
    "\n",
    "----"
   ]
  },
  {
   "cell_type": "code",
   "metadata": {},
   "source": [
    "%run ../common/common-functions.ipynb\n",
    "%run ../common/environment-check.ipynb"
   ],
   "outputs": [],
   "execution_count": null
  },
  {
   "cell_type": "markdown",
   "metadata": {},
   "source": [
    "----\n",
    "\n",
    "Erin is using the governance metadata server called `cocoMDS2`.  This service is hosted on the Core OMAG Server Platform.\n",
    "\n",
    "If any of the platforms are not running, follow [this link to set up and run the platform](https://egeria-project.org/education/open-metadata-labs/overview/).  If any server is reporting that it is not configured then\n",
    "run the steps in the [Server Configuration](../egeria-server-config.ipynb) lab to configure\n",
    "the servers.  Then re-run the previous step to ensure all of the servers are started.\n"
   ]
  },
  {
   "cell_type": "markdown",
   "metadata": {},
   "source": [
    "----\n",
    "## Loading the model content into a metadata server\n",
    "\n",
    "Standard models are released in many different formats, some following open standards and others using a proprietary standard, often defined by a particular modeling tool.  Egeria typically provides a parser to read the specific model format and then a builder to convert the content into an open metadata archive and then a writer to write out the contents to a file for distribution as shown in figure 2.\n",
    "\n",
    "<figure style=\"margin-left: 7%; display:inline-block;\">  \n",
    "  <img src=\"../images/design-model-to-archive-load.png\" width=\"640\">\n",
    "<figcaption style=\"margin-left: 7%;\"><strong>Figure 2: </strong>Process used to create the CloudInformationModel.json archive</figcaption>\n",
    "</figure>\n",
    "\n",
    "This hands on lab uses a version of the CIM model that is shipped as an open metadata archive with the Egeria release just before the CIM project was shutdown.\n",
    "\n",
    "The command to load the archive into the `cocoMDS2` metadata repository is shown below.\n",
    "\n",
    "----"
   ]
  },
  {
   "cell_type": "code",
   "metadata": {},
   "source": [
    "archiveFileName = '../opt/content-packs/CloudInformationModel.omarchive'\n",
    "\n",
    "loadArchive(cocoMDS1Name, cocoMDS1PlatformName, cocoMDS1PlatformURL, archiveFileName)"
   ],
   "outputs": [],
   "execution_count": null
  },
  {
   "cell_type": "markdown",
   "metadata": {},
   "source": [
    "----\n",
    "\n",
    "Once the archive is loaded it is possible to retrieve information about the glossary.\n",
    "\n",
    "\n",
    "## Retrieving information about the glossary\n",
    "\n",
    "The calls below retrieves the unique identifier (guid) of the CIM glossary loaded from the archive and prints out its properties.\n",
    "\n",
    "----"
   ]
  },
  {
   "cell_type": "code",
   "metadata": {},
   "source": [
    "cimDisplayName = \"Cloud Information Model (CIM)\"\n",
    "\n",
    "print(\" \")\n",
    "glossaries = getGlossariesByName(cocoMDS1Name, cocoMDS1PlatformName, cocoMDS1PlatformURL, erinsUserId, cimDisplayName)\n",
    "if glossaries:\n",
    "    printGlossaryElements(\"\", glossaries)\n",
    "        \n",
    "cimGlossaryGUID = getGUIDFromGlossary(cocoMDS1Name, cocoMDS1PlatformName, cocoMDS1PlatformURL, erinsUserId, cimDisplayName)\n",
    "if cimGlossaryGUID:\n",
    "    print(\" \")\n",
    "    print(\"Unique identifier of the CIM glossary is \" + cimGlossaryGUID)\n"
   ],
   "outputs": [],
   "execution_count": null
  },
  {
   "cell_type": "markdown",
   "metadata": {},
   "source": [
    "----\n",
    "The glossary itself is organized into a hierarchy of **glossary categories**.  Within the categories are **glossary terms**.  Each term describes a concept or phrase used in the model.\n",
    "\n",
    "<figure style=\"margin-left: 7%; display:inline-block;\">  \n",
    "  <img src=\"../images/glossary-structure.png\" width=\"340\">\n",
    "<figcaption style=\"margin-left: 7%;\"><strong>Figure 2: </strong>Glossary Structure</figcaption>\n",
    "</figure>\n",
    "\n",
    "The code below locates the root of the category hierarchy and navigates down the category hierarchy printing out the category names to reveal the structure of the glossary.\n",
    "\n",
    "----"
   ]
  },
  {
   "cell_type": "code",
   "metadata": {},
   "source": [
    "\n",
    "topLevelCategoryGUID = getTopLevelCategory(cocoMDS1Name, cocoMDS1PlatformName, cocoMDS1PlatformURL, erinsUserId, cimGlossaryGUID)\n",
    "\n",
    "print(\"\")\n",
    "if topLevelCategoryGUID:\n",
    "    print(\"Unique identfier of the top-level category is \" + topLevelCategoryGUID)\n",
    "\n",
    "print(\" \")\n",
    "printCategoryHierarchy(\"\", cocoMDS1Name, cocoMDS1PlatformName, cocoMDS1PlatformURL, erinsUserId, topLevelCategoryGUID)\n",
    "\n",
    "print(\"Done.\")"
   ],
   "outputs": [],
   "execution_count": null
  },
  {
   "cell_type": "markdown",
   "metadata": {},
   "source": [
    "----\n",
    "The CIM glossary is organized into two top-level categories: one for **property groups** and one for **subject areas**.  \n",
    "\n",
    "The property groups describe collections of related properties that appear in the model.  These are then used in\n",
    "concept beads (objects) in the model.  The subject areas organize the concept beads into related areas.\n",
    "\n",
    "## Searching the glossary\n",
    "\n",
    "Erin and Harry start issuing queries against the glossary to see what is in the glossary.  They being with\n",
    "requesting the terms from the **Party** category.  It turns out there are two categories with that name.\n",
    "The top-level category does not have any terms assigned, the second one does.\n",
    "\n",
    "\n",
    "*Note: if you want to search for other categories just change the value of* searchForCategory *and rerun the cell.*\n",
    "\n",
    "----"
   ]
  },
  {
   "cell_type": "code",
   "metadata": {},
   "source": [
    "searchForCategory = \"Party Configuration Concepts\"\n",
    "\n",
    "printTermsForCategories(cocoMDS1Name, cocoMDS1PlatformName, cocoMDS1PlatformURL, erinsUserId, searchForCategory, cimGlossaryGUID)\n"
   ],
   "outputs": [],
   "execution_count": null
  },
  {
   "cell_type": "markdown",
   "metadata": {},
   "source": [
    "----\n",
    "\n",
    "Next, they search for specific terms.  The `searchForGlossaryTerms` function does a wild-card search for any string that\n",
    "includes *Party*.  The `getGlossaryTerms` function returns glossary terms that have an exact match on the `qualifiedName` or `displayName` property.\n",
    "\n",
    "*Note: again you can change the setting of* searchName *to explore other terms.*\n",
    "\n",
    "----"
   ]
  },
  {
   "cell_type": "code",
   "metadata": {},
   "source": [
    "searchName=\"Party\"\n",
    "searchString=\".*\" + searchName + \".*\"\n",
    "\n",
    "print(\" \")\n",
    "searchForGlossaryTerms(cocoMDS1Name, cocoMDS1PlatformName, cocoMDS1PlatformURL, erinsUserId, searchString, None, None)\n",
    "print(\" \")\n",
    "print(\" \")\n",
    "getGlossaryTerms(cocoMDS1Name, cocoMDS1PlatformName, cocoMDS1PlatformURL, erinsUserId, searchName, cimGlossaryGUID, None)\n"
   ],
   "outputs": [],
   "execution_count": null
  },
  {
   "cell_type": "markdown",
   "metadata": {},
   "source": [
    "----\n",
    "\n",
    "## Understanding a glossary term\n",
    "\n",
    "Erin and Harry decide to look at the *Party Web Address* glossary term in more detail.  It shows the header information\n",
    "that identifies the source of the term.\n",
    "\n",
    "----"
   ]
  },
  {
   "cell_type": "code",
   "metadata": {},
   "source": [
    "\n",
    "searchName=\"Party Web Address\"\n",
    "\n",
    "print(\" \")\n",
    "termGUID = getGUIDFromGlossaryTerm(cocoMDS1Name, cocoMDS1PlatformName, cocoMDS1PlatformURL, erinsUserId, searchName, None, None)\n",
    "\n",
    "if termGUID:\n",
    "    term = getGlossaryTermByGUID(cocoMDS1Name, cocoMDS1PlatformName, cocoMDS1PlatformURL, erinsUserId, termGUID)\n",
    "    if term:\n",
    "        printTermElement(\"\", term)\n",
    "    else:\n",
    "        print(\"No term\")\n"
   ],
   "outputs": [],
   "execution_count": null
  },
  {
   "cell_type": "markdown",
   "metadata": {},
   "source": [
    "----\n",
    "\n",
    "They try to update the term.  However, because it comes from an archive, it is read-only.  The error response explains\n",
    "what went wrong.\n",
    "\n",
    "----"
   ]
  },
  {
   "cell_type": "code",
   "metadata": {},
   "source": [
    "\n",
    "updateTermWithAssetManager(cocoMDS1Name, cocoMDS1PlatformName, cocoMDS1PlatformURL, erinsUserId, termGUID, \"Party Web Address\", \"The URL for the Party\", \"This value links to a website or webservice.\", None, None, None, None)\n"
   ],
   "outputs": [],
   "execution_count": null
  },
  {
   "cell_type": "markdown",
   "metadata": {},
   "source": [
    "----\n",
    "\n",
    "## Creating a new term\n",
    "\n",
    "Since they want to build a collection of terms for the new sales process, Erin creates a new glossary for them.\n",
    "\n",
    "----"
   ]
  },
  {
   "cell_type": "code",
   "metadata": {},
   "source": [
    "\n",
    "newGlossaryGUID = createGlossaryWithAssetManager(cocoMDS1Name, cocoMDS1PlatformName, cocoMDS1PlatformURL, erinsUserId, \"New Sales Process Glossary\", \"This glossary is collecting terminology for the new sales process for personalized medicine.\")    \n",
    "\n",
    "if newGlossaryGUID:\n",
    "    glossary = getGlossaryByGUID(cocoMDS1Name, cocoMDS1PlatformName, cocoMDS1PlatformURL, erinsUserId, newGlossaryGUID)\n",
    "    if glossary:\n",
    "        printGlossaryElement(\"\", glossary)\n"
   ],
   "outputs": [],
   "execution_count": null
  },
  {
   "cell_type": "markdown",
   "metadata": {},
   "source": [
    "----\n",
    "\n",
    "Erin then creates a new term for *Party Web Address* in the new glossary.  \n",
    "\n",
    "----"
   ]
  },
  {
   "cell_type": "code",
   "metadata": {},
   "source": [
    "\n",
    "termName = \"Party Web Address\"\n",
    "summary = \"The URL for the Party\"\n",
    "description = \"This value links to a website or webservice.\"\n",
    "\n",
    "glossaryTermGUID = createTermWithAssetManager(cocoMDS1Name, cocoMDS1PlatformName, cocoMDS1PlatformURL, erinsUserId, newGlossaryGUID, \"ControlledGlossaryTerm\", termName, summary, description, None, None, None, None)\n",
    "\n",
    "if glossaryTermGUID:\n",
    "    term = getGlossaryTermByGUID(cocoMDS1Name, cocoMDS1PlatformName, cocoMDS1PlatformURL, erinsUserId, glossaryTermGUID)\n",
    "    if term:\n",
    "        printTermElement(\"\", term)"
   ],
   "outputs": [],
   "execution_count": null
  },
  {
   "cell_type": "markdown",
   "metadata": {},
   "source": [
    "----\n",
    "\n",
    "Erin then searches for the new term to check it is findable.  Two terms are returned.  The original in the CIM glossary and\n",
    "the new term in the new glossary.\n",
    "\n",
    "----"
   ]
  },
  {
   "cell_type": "code",
   "metadata": {},
   "source": [
    "searchName = \"Party Web Address\"\n",
    "\n",
    "getGlossaryTerms(cocoMDS1Name, cocoMDS1PlatformName, cocoMDS1PlatformURL, erinsUserId, searchName, None, None)\n"
   ],
   "outputs": [],
   "execution_count": null
  },
  {
   "cell_type": "markdown",
   "metadata": {},
   "source": [
    "----\n",
    "\n",
    "Erin tries the search again, but restricting the results to the CIM Glossary ...\n",
    "\n",
    "----"
   ]
  },
  {
   "cell_type": "code",
   "metadata": {},
   "source": [
    "\n",
    "getGlossaryTerms(cocoMDS1Name, cocoMDS1PlatformName, cocoMDS1PlatformURL, erinsUserId, searchName, cimGlossaryGUID, None)\n"
   ],
   "outputs": [],
   "execution_count": null
  },
  {
   "cell_type": "markdown",
   "metadata": {},
   "source": [
    "----\n",
    "\n",
    "Then she tries the search just on the new glossary ...\n",
    "\n",
    "----"
   ]
  },
  {
   "cell_type": "code",
   "metadata": {},
   "source": [
    "\n",
    "getGlossaryTerms(cocoMDS1Name, cocoMDS1PlatformName, cocoMDS1PlatformURL, erinsUserId, searchName, newGlossaryGUID, None)\n"
   ],
   "outputs": [],
   "execution_count": null
  },
  {
   "cell_type": "markdown",
   "metadata": {},
   "source": [
    "----\n",
    "\n",
    "## Updating a glossary term\n",
    "\n",
    "At Harry's suggestion, Erin adds usage information to the term.  Behind the scenes, it is using the *isMergeUpdate* option which means they only need to specify the fields that are changing and the other fields can be left as **None**.\n",
    "\n",
    "----"
   ]
  },
  {
   "cell_type": "code",
   "metadata": {},
   "source": [
    "\n",
    "updateTermWithAssetManager(cocoMDS1Name, cocoMDS1PlatformName, cocoMDS1PlatformURL, erinsUserId, glossaryTermGUID,\\\n",
    "                           None, None, None, None, None, \"This is used primarily for organizations.\", None)\n",
    "\n",
    "print(\"Update complete ...\")"
   ],
   "outputs": [],
   "execution_count": null
  },
  {
   "cell_type": "markdown",
   "metadata": {},
   "source": [
    "----\n",
    "\n",
    "Notice that when Erin retrieves the term, the usage field is filled out and the version number of the term increases to 2.\n",
    "\n",
    "----"
   ]
  },
  {
   "cell_type": "code",
   "metadata": {},
   "source": [
    "\n",
    "term = getGlossaryTermByGUID(cocoMDS1Name, cocoMDS1PlatformName, cocoMDS1PlatformURL, erinsUserId, glossaryTermGUID)\n",
    "if term:\n",
    "    printTermElement(\"\", term)\n"
   ],
   "outputs": [],
   "execution_count": null
  },
  {
   "cell_type": "markdown",
   "metadata": {},
   "source": [
    "----\n",
    "\n",
    "If Erin then calls **undo** to reverse the update, the usage value is removed, and the version number increases to 3.\n",
    "\n",
    "----"
   ]
  },
  {
   "cell_type": "code",
   "metadata": {},
   "source": [
    "\n",
    "undoTermUpdateWithAssetManager(cocoMDS1Name, cocoMDS1PlatformName, cocoMDS1PlatformURL, erinsUserId, glossaryTermGUID)\n",
    "\n",
    "term = getGlossaryTermByGUID(cocoMDS1Name, cocoMDS1PlatformName, cocoMDS1PlatformURL, erinsUserId, glossaryTermGUID)\n",
    "if term:\n",
    "    printTermElement(\"\", term)\n"
   ],
   "outputs": [],
   "execution_count": null
  },
  {
   "cell_type": "markdown",
   "metadata": {},
   "source": [
    "----\n",
    "\n",
    "The term history command returns each version of the term.\n",
    "\n",
    "---"
   ]
  },
  {
   "cell_type": "code",
   "metadata": {},
   "source": [
    "\n",
    "terms = getTermHistory(cocoMDS1Name, cocoMDS1PlatformName, cocoMDS1PlatformURL, erinsUserId, glossaryTermGUID)\n",
    "if terms:\n",
    "    printTermElements(\"\", terms)\n"
   ],
   "outputs": [],
   "execution_count": null
  },
  {
   "cell_type": "markdown",
   "metadata": {},
   "source": [
    "----\n",
    "\n",
    "## Controlling the term's version identifier\n",
    "\n",
    "The version information returned by the previous command is the repository's view of the versions.\n",
    "So it reflects how many times the glossary term is saved to the repository.\n",
    "\n",
    "It may be that the organization wants to reflect its own view of the versions for the glossary term that describes\n",
    "how many times it has been released as an approved term.\n",
    "This is possible using the *publishVersionIdentifier* property in the glossary term.\n",
    "\n",
    "The following command sets this property to \"V1.0\" in the *Party Web Address* term.\n",
    "\n",
    "----"
   ]
  },
  {
   "cell_type": "code",
   "metadata": {},
   "source": [
    "updateTermVersionWithAssetManager(cocoMDS1Name, cocoMDS1PlatformName, cocoMDS1PlatformURL, erinsUserId, glossaryTermGUID, \"V1.0\")\n",
    "\n",
    "print(\"update complete ...\")\n",
    "\n",
    "term = getGlossaryTermByGUID(cocoMDS1Name, cocoMDS1PlatformName, cocoMDS1PlatformURL, erinsUserId, glossaryTermGUID)\n",
    "if term:\n",
    "    printTermElement(\"\", term)"
   ],
   "outputs": [],
   "execution_count": null
  },
  {
   "cell_type": "markdown",
   "metadata": {},
   "source": [
    "----\n",
    "\n",
    "## Retrieving the revision history\n",
    "\n",
    "It is also possible to maintain an audit trail of updates and add a description when significant changes occur.\n",
    "\n",
    "The code below adds the usage back into the glossary term and adds an update description.\n",
    "\n",
    "----"
   ]
  },
  {
   "cell_type": "code",
   "metadata": {},
   "source": [
    "updateDescription = \"This term contains an initial version of the term and it is now ready for review.\"\n",
    "\n",
    "updateTermWithAssetManager(cocoMDS1Name, cocoMDS1PlatformName, cocoMDS1PlatformURL, erinsUserId, glossaryTermGUID,\\\n",
    "                           None, None, None, None, None, \"This is used primarily for organizations.\", updateDescription)\n",
    "\n",
    "print(\"Update complete ...\")"
   ],
   "outputs": [],
   "execution_count": null
  },
  {
   "cell_type": "markdown",
   "metadata": {},
   "source": [
    "----\n",
    "\n",
    "The revision history is linked off of the glossary term in a note log.  A new note is attached for each update.  It includes the user identifier of the person making the change, a description of the action and any additional text provided in the update description.\n",
    "\n",
    "![Structure of the Revision History](../images/glossary-revision-history.png)\n",
    "\n",
    "The code below shows the revision history for the \"Party Web Address\" term.\n",
    "\n",
    "----"
   ]
  },
  {
   "cell_type": "code",
   "metadata": {},
   "source": [
    "\n",
    "printRevisionHistoryWithAssetManager(cocoMDS1Name, cocoMDS1PlatformName, cocoMDS1PlatformURL, erinsUserId, glossaryTermGUID)\n"
   ],
   "outputs": [],
   "execution_count": null
  },
  {
   "cell_type": "markdown",
   "metadata": {},
   "source": [
    "----\n",
    "\n",
    "## Setting up security\n",
    "\n",
    "Erin then sets up security on the glossary so only Harry and herself can edit the glossary terms.  She also restricts the ability to change the status of a term to herself only.\n",
    "\n",
    "----"
   ]
  },
  {
   "cell_type": "code",
   "metadata": {},
   "source": [
    "\n",
    "accessGroups = {\n",
    "    \"glossaryMemberUpdate\" : [ erinsUserId , harrysUserId ],\n",
    "    \"glossaryMemberStatusUpdate\" : [ erinsUserId ]\n",
    "}\n",
    "\n",
    "addSecurityTagsToGlossary(cocoMDS1Name, cocoMDS1PlatformName, cocoMDS1PlatformURL, erinsUserId, newGlossaryGUID, None, None, accessGroups)\n"
   ],
   "outputs": [],
   "execution_count": null
  },
  {
   "cell_type": "markdown",
   "metadata": {},
   "source": [
    "----\n",
    "\n",
    "Erin hands over the definition of future terms to Harry.  They decide to use the controlled glossary term to allow\n",
    "them to use the status of the term to indicate whether it is complete or not.  When controlled glossary terms are\n",
    "created, their initial status is \"DRAFT\".\n",
    "\n",
    "----"
   ]
  },
  {
   "cell_type": "code",
   "metadata": {},
   "source": [
    "\n",
    "termName = \"Hospital\"\n",
    "summary = \"Specialised treatment centre.\"\n",
    "description = \"The hospital is the chief source of orders for personalized medicine.\"\n",
    "\n",
    "controlledTermGUID = createTermWithAssetManager(cocoMDS1Name, cocoMDS1PlatformName, cocoMDS1PlatformURL, harrysUserId, newGlossaryGUID, \"ControlledGlossaryTerm\", termName , summary, description, None, None, None, None)\n",
    "\n",
    "if controlledTermGUID:\n",
    "    term = getGlossaryTermByGUID(cocoMDS1Name, cocoMDS1PlatformName, cocoMDS1PlatformURL, harrysUserId, controlledTermGUID)\n",
    "    if term:\n",
    "        printTermElement(\"\", term)\n"
   ],
   "outputs": [],
   "execution_count": null
  },
  {
   "cell_type": "markdown",
   "metadata": {},
   "source": [
    "----\n",
    "\n",
    "When Harry thinks the definition of a term is ready for review, he tries to switch the status to \"PREPARED\".  Unfortulately\n",
    "Erin restricted this operation and he does not have permission.\n",
    "\n",
    "----"
   ]
  },
  {
   "cell_type": "code",
   "metadata": {},
   "source": [
    "status=\"PREPARED\"\n",
    "\n",
    "updateTermStatusWithAssetManager(cocoMDS1Name, cocoMDS1PlatformName, cocoMDS1PlatformURL, harrysUserId, controlledTermGUID, status)\n"
   ],
   "outputs": [],
   "execution_count": null
  },
  {
   "cell_type": "markdown",
   "metadata": {},
   "source": [
    "----\n",
    "\n",
    "No change has occurred to the glossary term.\n",
    "\n",
    "----"
   ]
  },
  {
   "cell_type": "code",
   "metadata": {},
   "source": [
    "if controlledTermGUID:\n",
    "    term = getGlossaryTermByGUID(cocoMDS1Name, cocoMDS1PlatformName, cocoMDS1PlatformURL, harrysUserId, controlledTermGUID)\n",
    "    if term:\n",
    "        printTermElement(\"\", term)"
   ],
   "outputs": [],
   "execution_count": null
  },
  {
   "cell_type": "markdown",
   "metadata": {},
   "source": [
    "----\n",
    "\n",
    "Only Erin can make a status change ...\n",
    "\n",
    "----"
   ]
  },
  {
   "cell_type": "code",
   "metadata": {},
   "source": [
    "updateTermStatusWithAssetManager(cocoMDS1Name, cocoMDS1PlatformName, cocoMDS1PlatformURL, erinsUserId, controlledTermGUID, status)\n",
    "\n",
    "if controlledTermGUID:\n",
    "    term = getGlossaryTermByGUID(cocoMDS1Name, cocoMDS1PlatformName, cocoMDS1PlatformURL, erinsUserId, controlledTermGUID)\n",
    "    if term:\n",
    "        printTermElement(\"\", term)\n"
   ],
   "outputs": [],
   "execution_count": null
  },
  {
   "cell_type": "markdown",
   "metadata": {},
   "source": [
    "----\n",
    "\n",
    "To further test the security, Erin asks Peter Profile to try to retrieve and update a term from the new glossary.\n",
    "He first tries the retrieval which works ok.\n",
    "\n",
    "----"
   ]
  },
  {
   "cell_type": "code",
   "metadata": {},
   "source": [
    "\n",
    "term = getGlossaryTermByGUID(cocoMDS1Name, cocoMDS1PlatformName, cocoMDS1PlatformURL, petersUserId, controlledTermGUID)\n",
    "if term:\n",
    "    printTermElement(\"\", term)\n"
   ],
   "outputs": [],
   "execution_count": null
  },
  {
   "cell_type": "markdown",
   "metadata": {},
   "source": [
    "----\n",
    "\n",
    "The update request fails with a security error ... also as expected.\n",
    "\n",
    "----"
   ]
  },
  {
   "cell_type": "code",
   "metadata": {},
   "source": [
    "termName = \"Hospital\"\n",
    "\n",
    "updateTermWithAssetManager(cocoMDS1Name, cocoMDS1PlatformName, cocoMDS1PlatformURL, petersUserId, controlledTermGUID, termName, None, None, None, None, None, None)\n"
   ],
   "outputs": [],
   "execution_count": null
  },
  {
   "cell_type": "markdown",
   "metadata": {},
   "source": [
    "----\n",
    "\n",
    "The next change is to extend the security so that only Erin and Harry can read the glossary.\n",
    "\n",
    "----"
   ]
  },
  {
   "cell_type": "code",
   "metadata": {},
   "source": [
    "\n",
    "accessGroups = {\n",
    "    \"glossaryMemberUpdate\" : [ erinsUserId , harrysUserId ],\n",
    "    \"glossaryMemberStatusUpdate\" : [ erinsUserId ],\n",
    "    \"glossaryRead\" : [ erinsUserId , harrysUserId ]\n",
    "}\n",
    "\n",
    "addSecurityTagsToGlossary(cocoMDS1Name, cocoMDS1PlatformName, cocoMDS1PlatformURL, erinsUserId, newGlossaryGUID, None, None, accessGroups)\n"
   ],
   "outputs": [],
   "execution_count": null
  },
  {
   "cell_type": "markdown",
   "metadata": {},
   "source": [
    "----\n",
    "\n",
    "When Peter tries to access the the glossary now, he is refused.\n",
    "\n",
    "----"
   ]
  },
  {
   "cell_type": "code",
   "metadata": {},
   "source": [
    "term = getGlossaryTermByGUID(cocoMDS1Name, cocoMDS1PlatformName, cocoMDS1PlatformURL, petersUserId, controlledTermGUID)\n",
    "if term:\n",
    "    printTermElement(\"\", term)"
   ],
   "outputs": [],
   "execution_count": null
  },
  {
   "cell_type": "markdown",
   "metadata": {},
   "source": [
    "----\n",
    "## Summary\n",
    "\n",
    "In this lab, you have had an opportunity to work with a pre-build glossary loaded from an archive as well as create a new glossary and work with its security.\n",
    "\n",
    "If you would like to run this lab again, run the cell below and it will clean up the metadata repository ...\n",
    "\n",
    "-----"
   ]
  },
  {
   "cell_type": "code",
   "metadata": {},
   "source": [
    "\n",
    "deleteGlossary(cocoMDS1Name, cocoMDS1PlatformName, cocoMDS1PlatformURL, erinsUserId, newGlossaryGUID)\n",
    "\n",
    "print(\"Deleted ... ready to go again\")"
   ],
   "outputs": [],
   "execution_count": null
  },
  {
   "cell_type": "code",
   "metadata": {},
   "source": [],
   "outputs": [],
   "execution_count": null
  }
 ],
 "metadata": {
  "kernelspec": {
   "display_name": "Python 3",
   "language": "python",
   "name": "python3"
  },
  "language_info": {
   "codemirror_mode": {
    "name": "ipython",
    "version": 3
   },
   "file_extension": ".py",
   "mimetype": "text/x-python",
   "name": "python",
   "nbconvert_exporter": "python",
   "pygments_lexer": "ipython3",
   "version": "3.7.3"
  }
 },
 "nbformat": 4,
 "nbformat_minor": 4
}
