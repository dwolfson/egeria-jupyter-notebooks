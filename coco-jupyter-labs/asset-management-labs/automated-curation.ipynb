{
 "cells": [
  {
   "cell_type": "markdown",
   "metadata": {},
   "source": [
    "![Egeria Logo](https://raw.githubusercontent.com/odpi/egeria/main/assets/img/ODPi_Egeria_Logo_color.png)\n",
    "\n",
    "### Egeria Hands-On Lab\n",
    "# Welcome to the Automated Curation Lab\n",
    "\n",
    "## Introduction\n",
    "\n",
    "Egeria is an open source project that provides open standards and implementation libraries to connect tools, catalogs and platforms together so they can share information about data and technology (called metadata).\n",
    "\n",
    "In the [Building a Data Catalog](building-a-data-catalog.ipynb) lab, Peter Profile and Erin Overivew\n",
    "manually catalogued the weekly measurement files for the Drop Foot clinical trial.\n",
    "\n",
    "In this hands-on lab you will get a chance to work with Egeria's governance servers to\n",
    "automate this onboarding process.\n",
    "\n",
    "**Note: this Lab needs Egeria release 4.1-SNAPSHOT or later to run**"
   ]
  },
  {
   "cell_type": "markdown",
   "metadata": {},
   "source": [
    "## The scenario\n",
    "\n",
    "[Coco Pharmaceuticals](https://egeria-project.org/practices/coco-pharmaceuticals/)\n",
    "is conducting a clinical trial of one of its new treatments.  The first hospital to join the trial is\n",
    "*Oak Dene* Hospital. *Old Market* Hospital is expected to join soon, closely followed by other hospitals.\n",
    "\n",
    "Each week the participating hospitals send Coco Pharmaceuticals a set of measurements from the patients\n",
    "involved in the trial.  These measurements are located in a CSV file that the hospital sends through\n",
    "secure file transfer to a folder in Coco Pharmaceutical's landing area.\n",
    "\n",
    "These files need to be copied into the data lake and catalogued so that they are only visible to the\n",
    "staff involved in the clinical trial.  It is also important that the lineage of these files is\n",
    "maintained so the source of the data can be traced.  This process is shown in Figure 1.\n",
    "\n",
    "![Scenario](../images/automated-curation-scenario.png)\n",
    "> **Figure 1:** Clinical trial weekly measurements onboarding process\n",
    "\n",
    "Peter Profile and Erin Overview are responsible for this onboarding process.\n",
    "\n",
    "<figure style=\"margin-left: 7%; display:inline-block;\">  \n",
    "  <img src=\"https://raw.githubusercontent.com/odpi/egeria-docs/main/site/docs/practices/coco-pharmaceuticals/personas/peter-profile.png\">\n",
    "  <figcaption style=\"margin-left: 15%;\"><strong>Peter Profile</strong></figcaption>\n",
    "</figure>\n",
    "\n",
    "<figure style=\"margin-left: 20%; display:inline-block;\">  \n",
    "  <img src=\"https://raw.githubusercontent.com/odpi/egeria-docs/main/site/docs/practices/coco-pharmaceuticals/personas/erin-overview.png\">\n",
    "  <figcaption style=\"margin-left: 15%;\"><strong>Erin Overview</strong></figcaption>\n",
    "</figure>\n",
    "\n",
    "\n",
    "They have defined a list of requirements for the process:\n",
    "\n",
    "* Each hospital has its own subdirectory in the landing area.\n",
    "* Files must be in the landing area for a minimum amount of time.\n",
    "* As a new file is received, it needs to be catalogued, including:\n",
    "   * Description\n",
    "   * Connection details to enable the data scientists to access the contents\n",
    "   * Column details\n",
    "   * Governance zones defining the files' visibility\n",
    "   * Owner \n",
    "   * Origin\n",
    "* A file is not accessible by any of the data lake users until the cataloguing process is complete.\n",
    "* They must record lineage of each measurements file so they know which hospital it came from.\n",
    "* It should be easy to add a new hospital to the clinical trial.\n",
    "\n",
    "They have been [manually cataloguing the measurements files](building-a-data-catalog.ipynb) for\n",
    "the first few weeks to prove the approach but now it is time to automate the process since:\n",
    "* This clinical trial is planned to run for two years.\n",
    "* There is a expected to be a ramp up both the number of hospitals involved in this clinical trial.\n",
    "* New clinical trials are expected to start and run simultaneously.\n",
    "\n",
    "Consequently, the file onboarding workload would soon become overwhelming if they continued with the manual approach.\n",
    "\n",
    "They plan to use an\n",
    "[Integration Daemon](https://egeria-project.org/concepts/integration-daemon)\n",
    "called **exchangeDL01** to capture the technical metadata of the files.\n",
    "Then the \n",
    "[Engine Host](https://egeria-project.org/concepts/engine-host)\n",
    "server called **governDL01** will manage the move of the file into the data lake,\n",
    "the augmentation of the metadata properties of the files and the creation of the lineage.\n",
    "\n",
    "This lab sets up the automated onboarding process using 5 phases as shown in Figure 2:\n",
    "\n",
    "![Phases](../images/automated-curation-scenario-6.png)\n",
    "> **Figure 2:** All five phases\n",
    "\n",
    "1. Bring files in from \"outside\" using the move/copy file governance action service.  This is a temporary step to simulate the hospital publishing the measurement files when this process is running in production.\n",
    "2. Create and configure templates used to catalog files in the landing areas and data lake.\n",
    "3. Implement the governance action process that will move the file into the data lake folder and catalog the lineage.\n",
    "4. Set up a trigger for a governance action process whenever a file appears in a landing folder.\n",
    "5. Send new files new files as they are added to the data lake folder and catalog them as assets (using the template and enrichments from the governance action process\n"
   ]
  },
  {
   "cell_type": "markdown",
   "metadata": {},
   "source": [
    "## Setting up\n",
    "\n",
    "Coco Pharmaceuticals make widespread use of Egeria for tracking and managing their data and related assets.\n",
    "Figure 3 below shows their servers and the Open Metadata and Governance (OMAG) Server Platforms that are hosting them.\n",
    "\n",
    "![Figure 3](../images/coco-pharmaceuticals-systems-omag-server-platforms.png)\n",
    "> **Figure 3:** Coco Pharmaceuticals' OMAG Server Platforms\n",
    "\n",
    "The code below checks that the platforms are running.  It checks that the servers are configured and whether they are running on the platform.  If a server is configured, but not running, it will start it.\n",
    "\n",
    "Look for the second \"Done.\" message that is displayed just after the governance servers have started.  It may take up to a minute to start up all of the servers.  If `cocoMDS2` seems to be very slow starting, check that Apache Kafka is running.  The metadata servers will wait for Kafka during start up if they are connected to a cohort.  When they are waiting in this manner, they periodically output a message on the console."
   ]
  },
  {
   "cell_type": "code",
   "metadata": {},
   "source": [
    "# Start up the metadata servers and the view server\n",
    "%run ../common/common-functions.ipynb\n",
    "%run ../common/environment-check.ipynb\n",
    "\n",
    "print(\"Start up the Governance Servers\")\n",
    "activatePlatform(dataLakePlatformName, dataLakePlatformURL, [governDL01Name, exchangeDL01Name])\n",
    "\n",
    "print(\"Done. \")"
   ],
   "outputs": [],
   "execution_count": null
  },
  {
   "cell_type": "markdown",
   "metadata": {},
   "source": [
    "----\n",
    "If any of the platforms are not running, follow [this link to set up and run the platform](https://egeria-project.org/education/open-metadata-labs/overview/).  If any server is reporting that it is not configured then\n",
    "run the steps in the [Server Configuration](../egeria-server-config.ipynb) lab to configure\n",
    "the servers.  Then re-run the previous step to ensure all of the servers are started.\n",
    "\n",
    "----\n",
    "\n",
    "In this lab, we will use the metadata servers `cocoMDS1` and `cocoMDS2` along with\n",
    "the integration daemon `exchangeDL01` and the engine host server `governDL01`.\n",
    "They are connected together as shown in figure 4.\n",
    "\n",
    "![Figure 4](../images/governance-servers-for-automated-onboarding.png)\n",
    "> **Figure 4:** Governance servers for automated curation\n",
    "\n",
    "The `exchangeDL01` integration daemon is responsible for cataloguing files.\n",
    "The `cocoMDS1` metadata server is where the new files are catalogued.\n",
    "The `governDL01` engine host runs the provisioning and governance services and takes it definitions that drive what is to run from `cocoMDS2`.  \n",
    "\n",
    "## Review the status of the integration daemon\n",
    "\n",
    "At this point, even though both `exchangeDL01` and `governDL01` are running, there is still work to set up the full data onboarding pipeline.  Lets start with the integration daemon that catalogs the files as they appear in a folder.\n",
    "\n",
    "The command below queries the status of the integration daemon called `exchangeDL01`.\n",
    "\n",
    "----"
   ]
  },
  {
   "cell_type": "code",
   "metadata": {},
   "source": [
    "\n",
    "getIntegrationDaemonStatus(exchangeDL01Name, exchangeDL01PlatformName, exchangeDL01PlatformURL, petersUserId)\n"
   ],
   "outputs": [],
   "execution_count": null
  },
  {
   "cell_type": "markdown",
   "metadata": {},
   "source": [
    "----\n",
    "\n",
    "The `DropFootClinicalTrialResultsFolderMonitor` integration connector monitoring the the data lake directory is maintaining the last update time for the [DataFolder](https://egeria-project.org/types/2/0220-Files-and-Folders/) asset that represents the collection of measurements received from all hospitals for the clinical trial.\n",
    "\n",
    "This integration connector is running under the [Files Integrator Open Metadata Integration Service (OMIS)](https://egeria-project.org/services/omis/files-integrator/overview/) and it is failing because the directory (folder) that it is supposed to be monitoring does not exist because no file have been received from any hospitals yet.\n",
    "\n",
    "You may be wondering why the integration connector fails when the directories are not present.  Surely it could keep running and periodically check whether the directory has been created yet?  The simple answer is that it is a design choice made when the integration connector was written.  In this example, the assumption made by the integration connector developer was that the folders should be present and there is an issue in the set-up if they are not.\n",
    "\n",
    "As the data onboarding pipeline is developed in this lab, the requested directory will get created and we will be able to restart the connector to get it working.\n",
    "\n",
    "Peter records the name of the integration connector so he can reconfigure and restart it later.  He also records the name of the directory that the integration connector is monitoring.\n",
    "\n",
    "---"
   ]
  },
  {
   "cell_type": "code",
   "metadata": {},
   "source": [
    "\n",
    "dataLakeDirectoryConnectorName = 'DropFootClinicalTrialResultsFolderMonitor'\n",
    "\n",
    "dataLakeDirectory = fileSystemRoot + '/data-lake/research/clinical-trials/drop-foot/weekly-measurements'\n"
   ],
   "outputs": [],
   "execution_count": null
  },
  {
   "cell_type": "markdown",
   "metadata": {},
   "source": [
    "----\n",
    "\n",
    "## Receiving files from the hospital(s)\n",
    "\n",
    "For the purposes of this lab, we need to be able to simulate the arrival of files from the hospital.  These files are located in the sample data that is in the Egeria distribution.  There are two sets of sample data: one set for the *Oak Dene* hospital and another for the *Old Market* hospital.\n",
    "\n",
    "----"
   ]
  },
  {
   "cell_type": "code",
   "metadata": {},
   "source": [
    "\n",
    "OakDeneSourceFolder   = egeriaSampleDataRoot + '/sample-data/oak-dene-drop-foot-weekly-measurements'\n",
    "OldMarketSourceFolder = egeriaSampleDataRoot + '/sample-data/old-market-drop-foot-weekly-measurements'\n"
   ],
   "outputs": [],
   "execution_count": null
  },
  {
   "cell_type": "markdown",
   "metadata": {},
   "source": [
    "----\n",
    "\n",
    "When the files are catalogued in Egeria, they are represented by specialized [assets](https://egeria-project.org/concepts/asset/) of type `CSVfile`. At this time there are no assets catalogued for either the landing area or the weekly measurements directory.\n",
    "\n",
    "----"
   ]
  },
  {
   "cell_type": "code",
   "metadata": {},
   "source": [
    "\n",
    "print(\" \")\n",
    "\n",
    "print(\"Assets in the landing area:\")\n",
    "assetOwnerPrintAssets(cocoMDS1Name, cocoMDS1PlatformName, cocoMDS1PlatformURL, petersUserId, \".*landing.*\")\n",
    "\n",
    "print(\"\\nAssets in the data lake:\")\n",
    "assetOwnerPrintAssets(cocoMDS1Name, cocoMDS1PlatformName, cocoMDS1PlatformURL, petersUserId, \".*drop-foot/weekly-measurements.*\")\n"
   ],
   "outputs": [],
   "execution_count": null
  },
  {
   "cell_type": "markdown",
   "metadata": {},
   "source": [
    "----\n",
    "## Setting up the file transfer into the landing area\n",
    "\n",
    "The directories that the integration connectors are configured to monitor could be created using a file system command.\n",
    "In this lab, however, the creation of a landing area folder will occur when the first file is received from the corresponding hospital.\n",
    "This is to illustrate how changes in the physical data landscape can trigger actions in the open metadata ecosystem.\n",
    "\n",
    "Peter is going to use a\n",
    "[provisioning governance service](https://egeria-project.org/guides/developer/governance-action-services/provisioning-governance-service/) called\n",
    "[Move/Copy File Governance Action Service](https://egeria-project.org/connectors/governance-action/move-copy-file-provisioning-governance-action-service/)\n",
    "to simulate the file transfer from a hospital to its folder in the landing zone.\n",
    "This service runs in a governance engine that is supported by the\n",
    "[Governance Action Open Metadata Engine Service (OMES)](https://egeria-project.org/services/omes/governance-action/overview).\n",
    "\n",
    "This governance service\n",
    "runs in a governance engine supported by the Governance Action Open Metadata Engine Services (OMES).\n",
    "Figure 5 shows the three governance engines configured in the `governDL01` engine host server during the\n",
    "[Configuring Egeria Servers Lab](../egeria-server-config.ipynb).\n",
    "\n",
    "![Figure 5](../images/engine-host.png)\n",
    "> **Figure 5:** Governance Engines for governDL01\n",
    "\n",
    "The command below queries the status of each governance engine running in `governDL01`.\n",
    "The governance action services that will support the onboarding of files for clinical trials will run in the `AssetGovernance`\n",
    "governance engine.  The other two governance engines are employed in the [Improving Data Quality](../administration-labs/open-discovery-config.ipynb) lab.\n",
    "\n",
    "----"
   ]
  },
  {
   "cell_type": "code",
   "metadata": {},
   "source": [
    "\n",
    "printGovernanceEngineStatuses(governDL01Name, governDL01PlatformName, governDL01PlatformURL, petersUserId)\n"
   ],
   "outputs": [],
   "execution_count": null
  },
  {
   "cell_type": "markdown",
   "metadata": {},
   "source": [
    "----\n",
    "If you see the status code `ASSIGNED`, it means that the governance engine was listed in the `governDL01` [Engine Host's configuration\n",
    "document](https://egeria-project.org/guides/admin/servers/configuring-an-engine-host/#list-engine-services) (the governance engine was assigned to this server) but the Engine Host has not been\n",
    "able to retrieve the configuration for the governance engine from its metadata server (`cocoMDS2`).\n",
    "\n",
    "Peter adds the definitions for the governance engine to `cocoMDS2` to start the `AssetGovernance` governance engine running. This definition of a governance engine is stored in an [open metadata archive](https://egeria-project.org/guides/developer/open-metadata-archives/creating-governance-engine-packs/).  \n",
    "\n",
    "The command below loads the definitions for `AssetGovernance`, `AssetDiscovery` and `AssetQuality` into `cocoMDS2`.\n",
    "\n",
    "----"
   ]
  },
  {
   "cell_type": "code",
   "metadata": {},
   "source": [
    "archiveFileName = 'content-packs/CocoGovernanceEngineDefinitionsArchive.omarchive\n",
    "\n",
    "loadArchive(cocoMDS2Name, cocoMDS2PlatformName, cocoMDS2PlatformURL, archiveFileName)\n",
    "\n",
    "print(\"Sleeping to complete processing of archive ...\")\n",
    "time.sleep(3)\n",
    "\n",
    "print(\"Done. \")"
   ],
   "outputs": [],
   "execution_count": null
  },
  {
   "cell_type": "markdown",
   "metadata": {},
   "source": [
    "----\n",
    "\n",
    "The archive contains five [*governance service definitions*](https://egeria-project.org/concepts/governance-service-definition/).  These describe reusable governance components called [*governance services*](https://egeria-project.org/concepts/governance-service/) that Peter and Erin will be using in the onboarding process.  \n",
    "\n",
    "Peter lists the governance service definitions added by the archive.  (*If less than five are returned, re-run the cell to retrieve them all*).\n",
    "\n",
    "----"
   ]
  },
  {
   "cell_type": "code",
   "metadata": {},
   "source": [
    "\n",
    "print(\"\")\n",
    "print(\"Governance Service Definitions ...\")\n",
    "getGovernanceServiceDefinitions(cocoMDS2Name, cocoMDS2PlatformName, cocoMDS2PlatformURL, erinsUserId)\n",
    "print(\"\")\n"
   ],
   "outputs": [],
   "execution_count": null
  },
  {
   "cell_type": "markdown",
   "metadata": {},
   "source": [
    "----\n",
    "\n",
    "The governance service definitions are linked into [*governance engine definitions*](https://egeria-project.org/concepts/governance-engine-definition/) that describe the functions that are available in a governance engine running on an Engine Host.\n",
    "\n",
    "\n",
    "![Figure 6](../images/governance-engine-definition.png)\n",
    "> **Figure 6:** Structure of the governance services within a governance engine\n",
    "\n",
    "A governance engine's request types are the functions it supports.  They are mapped to the governance services that provide the implementation.  When a call is made to the governance engine, a request type is passed.  This is mapped to a governance service.  The governance engine runs the governance service.\n",
    "\n",
    "----\n",
    "\n",
    "Peter lists the governance engines that were defined in the archive.\n",
    "They plan to use the *AssetGovernance* engine since the request types listed below match their needs for building the automated onboarding process.\n",
    "\n",
    "----"
   ]
  },
  {
   "cell_type": "code",
   "metadata": {},
   "source": [
    "\n",
    "print(\"Governance Engine Definitions ...\")\n",
    "getGovernanceEngineDefinitions(cocoMDS2Name, cocoMDS2PlatformName, cocoMDS2PlatformURL, erinsUserId)\n"
   ],
   "outputs": [],
   "execution_count": null
  },
  {
   "cell_type": "markdown",
   "metadata": {},
   "source": [
    "----\n",
    "\n",
    "Once a governance engine definition is loaded, it is sent to the `governDL01` Engine Host in an event\n",
    "and, on receipt, the engine's status moves to `CONFIGURING`.  The Engine Host then starts loading the governance services.\n",
    "\n",
    "When at least one governance service definition is linked to the governance engine, the status of the\n",
    "governance engine in `governDL01` moves to `RUNNING` and it is possible to see the list of supported\n",
    "request types for the governance engine.\n",
    "\n",
    "----\n",
    "\n",
    "Peter checks that the governance engine definitions have been passed to the Engine Host.\n",
    "\n",
    "Notice that the descriptions from the governance engine definitions have been picked up.  Since *AssetQuality* had no governance services registered with it, it is still in `CONFIGURING` state, where are the other engines are in `RUNNING` state.  The *FileProvisioning* governance engine has been ignored because it was not listed in the Engine Host's configuration.\n",
    "\n",
    "----"
   ]
  },
  {
   "cell_type": "code",
   "metadata": {},
   "source": [
    "\n",
    "assetGovernanceEngineName = \"AssetGovernance\"\n",
    "\n",
    "waitForRunningGovernanceEngine(governDL01Name, governDL01PlatformName, governDL01PlatformURL, petersUserId, assetGovernanceEngineName)\n",
    "\n",
    "printGovernanceEngineStatuses(governDL01Name, governDL01PlatformName, governDL01PlatformURL, petersUserId)\n"
   ],
   "outputs": [],
   "execution_count": null
  },
  {
   "cell_type": "markdown",
   "metadata": {},
   "source": [
    "----\n",
    "\n",
    "With the governance action services defined in a running governance engine, all that remains is to call them.\n",
    "\n",
    "Any defined governance action service can be called directly through the Governance Engine OMAS's `initiateGovernanceAction()` service. The `addFileToLandingArea()` function defined below, requests that the Governance Engine OMAS calls the *simulate-ftp* request running on the *AssetGovenance* governance engine.\n",
    "\n",
    "----"
   ]
  },
  {
   "cell_type": "code",
   "metadata": {},
   "source": [
    "\n",
    "\n",
    "def addFileToLandingArea(sourceFolder, destinationFolder, weekNumber, qualifiedName):\n",
    "    sourceFileName = sourceFolder + \"/\" + \"week\" + weekNumber + \".csv\"\n",
    "    requestParameters = {\n",
    "        \"sourceFile\" : sourceFileName,\n",
    "        \"destinationFolder\" : destinationFolder\n",
    "    }\n",
    "    governanceActionGUID = None\n",
    "    governanceActionGUID = initiateGovernanceAction(cocoMDS2Name,\n",
    "                                                    cocoMDS2PlatformName,\n",
    "                                                    cocoMDS2PlatformURL,\n",
    "                                                    erinsUserId,\n",
    "                                                    assetGovernanceEngineName,\n",
    "                                                    qualifiedName,\n",
    "                                                    \"simulate-ftp\",\n",
    "                                                    requestParameters,\n",
    "                                                    \"Populate landing area\")\n",
    "    waitForRunningGovernanceAction(cocoMDS2Name, cocoMDS2PlatformName, cocoMDS2PlatformURL, erinsUserId, governanceActionGUID)\n",
    "    printGovernanceAction(cocoMDS2Name, cocoMDS2PlatformName, cocoMDS2PlatformURL, erinsUserId, governanceActionGUID)\n"
   ],
   "outputs": [],
   "execution_count": null
  },
  {
   "cell_type": "markdown",
   "metadata": {},
   "source": [
    "----\n",
    "\n",
    "Peter calls this function to add a file to the Oak Dene Hospital landing area directory.\n",
    "\n",
    "----\n",
    "\n",
    "In this lab, Governance Engine OMAS is running in the `cocoMDS2` metadata server.\n",
    "The call below results in an event being sent to all\n",
    "engine hosts running the named governance engine.  The first one that claims it, gets to run it.  In this lab\n",
    "there is only one engine host and so the request will run on `governDL01`.\n",
    "\n",
    "This governance action does not take long to run so you should soon see its status as `ACTIONED`.\n",
    "\n",
    "----"
   ]
  },
  {
   "cell_type": "code",
   "metadata": {},
   "source": [
    "landingAreaDirectory      = fileSystemRoot + '/landing-area/hospitals'\n",
    "OakDeneLandingDirectory   = landingAreaDirectory + '/oak-dene/clinical-trials/drop-foot'\n",
    "\n",
    "addFileToLandingArea(OakDeneSourceFolder, OakDeneLandingDirectory, \"1\", \"FTP Oak Dene Week 1\")\n"
   ],
   "outputs": [],
   "execution_count": null
  },
  {
   "cell_type": "markdown",
   "metadata": {},
   "source": [
    "----\n",
    "\n",
    "A [governance action](https://egeria-project.org/concepts/governance-action/) identifies the governance engine that is/was called and the *requestType* and *requestParameters* used to set up the call to the associated governance service.  The *actionStatus* is showing the status of the the governance action (`ACTIONED` means it successfully completed) and the [*completionGuards*](https://egeria-project.org/concepts/guard/) describe the outcome of the governance action.\n",
    "\n",
    "The *processingEngineUserId* identifies which Engine Host claimed the governance action.  (Multiple Engine Hosts can run the same governance engine for scalability and resillience.)  In this case `governDL01npa` is the userId of the `governDL01` Engine Host.\n",
    "\n",
    "----\n",
    "\n",
    "Peter and Erin now have the ability to provision new files into either landing area as shown in Figure 7.  This will allow them to test their onboarding process before real files start to arrive from the hospitals.\n",
    "\n",
    "![Phase 1](../images/automated-curation-scenario-1.png)\n",
    "> **Figure 7:** Phase 1: Arrival of new files\n",
    "\n",
    "----\n",
    "\n",
    "## Setting up the Oak Dene Integration Connector\n",
    "\n",
    "Now that there is a file in the Oak Dene hospital's landing area, we are going to focus on setting up the *Onboarding Integration Group*\n",
    "and the integration connector that is going to detect and catalog new files from Oak Dene hospital.\n",
    "\n",
    "First, the integration group is set up ...\n",
    "\n",
    "----"
   ]
  },
  {
   "cell_type": "code",
   "metadata": {},
   "source": [
    "integrationGroupName = \"Onboarding\"\n",
    "integrationGroupDescription = \"Integration connectors that monitor the landing area folder for clinical trial weekly measurements\"\n",
    "\n",
    "integrationGroupGUID = createIntegrationGroup(cocoMDS2Name, cocoMDS2PlatformName, cocoMDS2PlatformURL, erinsUserId,\\\n",
    "                                              integrationGroupName, integrationGroupDescription)\n",
    "\n",
    "if integrationGroupGUID:\n",
    "    print(\"Integration Group GUID is: \" + integrationGroupGUID)"
   ],
   "outputs": [],
   "execution_count": null
  },
  {
   "cell_type": "markdown",
   "metadata": {},
   "source": [
    "----\n",
    "\n",
    "Then an integration connector is defined to listen to the Oak Dene hospital landing area directory.  \n",
    "\n",
    "This **DataFilesMonitorIntegrationConnector** maintains a *DataFile* asset for each file in the directory (or any subdirectory).\n",
    "When a new file is created, a new DataFile asset is created.  If a file is modified, the lastModified property\n",
    "of the corresponding DataFile asset is updated.  When a file is deleted, its corresponding DataFile asset is also deleted.\n",
    "\n",
    "----"
   ]
  },
  {
   "cell_type": "code",
   "metadata": {},
   "source": [
    "\n",
    "OakDeneConnectorName         = \"OakDeneLandingAreaFilesMonitor\"\n",
    "OakDeneConnectorDescription  = \"Listener for incoming weekly measurement files from Oak Dene hospital.\"\n",
    "OakDeneConnectorUserId       = \"onboardDL01npa\"\n",
    "OakDeneConnectorSourceName   = \"HospitalLandingArea\"\n",
    "OakDeneConnectorFolder       = fileSystemRoot + '/landing-area/hospitals/oak-dene/clinical-trials/drop-foot'\n",
    "OakDeneConnectorConnection   =  { \n",
    "                                      \"class\" : \"Connection\",\n",
    "                                      \"qualifiedName\" : \"Connection:\" + OakDeneConnectorName,\n",
    "                                      \"connectorType\" : \n",
    "                                      {\n",
    "                                           \"class\" : \"ConnectorType\",\n",
    "                                           \"qualifiedName\" : \"ConnectorType:\" + OakDeneConnectorName,\n",
    "                                           \"connectorProviderClassName\" : \"org.odpi.openmetadata.adapters.connectors.integration.basicfiles.DataFilesMonitorIntegrationProvider\"           \n",
    "                                          \n",
    "                                      },\n",
    "                                      \"endpoint\" :\n",
    "                                      {\n",
    "                                           \"class\" : \"Endpoint\",\n",
    "                                           \"qualifiedName\" : \"Endpoint:\" + OakDeneConnectorName,\n",
    "                                           \"address\" : OakDeneConnectorFolder\n",
    "                                      }\n",
    "                                }\n",
    "\n",
    "oakDeneIntegrationConnectorGUID = createIntegrationConnector(cocoMDS2Name, cocoMDS2PlatformName, cocoMDS2PlatformURL, erinsUserId,\\\n",
    "                                                             OakDeneConnectorName, OakDeneConnectorDescription, OakDeneConnectorConnection)\n",
    "if oakDeneIntegrationConnectorGUID:\n",
    "    print(\"Oak Dene's Integration Connector GUID is: \" + oakDeneIntegrationConnectorGUID)\n"
   ],
   "outputs": [],
   "execution_count": null
  },
  {
   "cell_type": "markdown",
   "metadata": {},
   "source": [
    "----\n",
    "\n",
    "Next the integration connector is linked into the integration group to tell the integration daemon to run it.\n",
    "\n",
    "----"
   ]
  },
  {
   "cell_type": "code",
   "metadata": {},
   "source": [
    "\n",
    "addIntegrationConnectorToGroup(cocoMDS2Name, cocoMDS2PlatformName, cocoMDS2PlatformURL, erinsUserId, integrationGroupGUID,\\\n",
    "                               oakDeneIntegrationConnectorGUID, OakDeneConnectorName, OakDeneConnectorUserId, OakDeneConnectorSourceName, \\\n",
    "                               10)\n"
   ],
   "outputs": [],
   "execution_count": null
  },
  {
   "cell_type": "markdown",
   "metadata": {},
   "source": [
    "----\n",
    "\n",
    "When Peter checks the configuration of the integration daemon, he sees that the connector for Oak Dene hospital is running.  (If it is not yet running, retry the call to getIntegrationDaemonStatus)\n",
    "\n",
    "----"
   ]
  },
  {
   "cell_type": "code",
   "metadata": {},
   "source": [
    "\n",
    "getIntegrationDaemonStatus(exchangeDL01Name, exchangeDL01PlatformName, exchangeDL01PlatformURL, petersUserId)\n"
   ],
   "outputs": [],
   "execution_count": null
  },
  {
   "cell_type": "markdown",
   "metadata": {},
   "source": [
    "----\n",
    "\n",
    "The connector will begin cataloguing any files placed in the directory.  We should be able to see the `week1.csv` file in the catalog along with catalog entries for each of the nested directories it sits in (6 assets in total). \n",
    "\n",
    "*If less than 6 assets are shown, wait a short while and run the cell again and they will appear*.\n",
    "\n",
    "----"
   ]
  },
  {
   "cell_type": "code",
   "metadata": {},
   "source": [
    "\n",
    "assetOwnerPrintAssets(cocoMDS1Name, cocoMDS1PlatformName, cocoMDS1PlatformURL, petersUserId, \".*landing.*\")\n"
   ],
   "outputs": [],
   "execution_count": null
  },
  {
   "cell_type": "code",
   "metadata": {},
   "source": [
    "## If you would like to see more detail for any of these assets, set up the assetGUID value below with the unique identifier (guid)\n",
    "## of the asset you are interested in and uncomment (remove #) from the front of printSelectiveAssetUniverse and then run this cell.\n",
    "\n",
    "assetGUID = \"Add guid here\"\n",
    "\n",
    "#printSelectiveAssetUniverse(cocoMDS1Name, cocoMDS1PlatformName, cocoMDS1PlatformURL, 'asset-owner', petersUserId, assetGUID, True, True)"
   ],
   "outputs": [],
   "execution_count": null
  },
  {
   "cell_type": "markdown",
   "metadata": {},
   "source": [
    "----\n",
    "\n",
    "The call below captures the full path name of the landing area directory by extracting it from the catalogued asset for this directory.\n",
    "This will be used when configuring a later part of the onboarding process.\n",
    "\n",
    "----"
   ]
  },
  {
   "cell_type": "code",
   "metadata": {},
   "source": [
    "\n",
    "landingAreaDirectoryName = assetOwnerFindAssetPathName(cocoMDS1Name, cocoMDS1PlatformName, cocoMDS1PlatformURL, petersUserId, \".*\" + landingAreaDirectory)\n",
    "\n",
    "print(landingAreaDirectoryName)\n"
   ],
   "outputs": [],
   "execution_count": null
  },
  {
   "cell_type": "markdown",
   "metadata": {},
   "source": [
    "----\n",
    "\n",
    "With the full path name, it is possible to list the files in the file system.\n",
    "\n",
    "----"
   ]
  },
  {
   "cell_type": "code",
   "metadata": {},
   "source": [
    "oakDeneLandingAreaFullPath = \"/\" + landingAreaDirectoryName + \"/oak-dene/clinical-trials/drop-foot\"\n",
    "\n",
    "# When running in a kubernetes environment, the os.listdir command will fail \n",
    "# because the topology of the system is different. Consequently the default is to comment out this command.\n",
    "# If your topology allows (e.g. you are running Egeria locally to your Jupyter server), feel free to uncomment this \n",
    "# so that you can watch the files change.\n",
    "#\n",
    "# os.listdir (oakDeneLandingAreaFullPath)"
   ],
   "outputs": [],
   "execution_count": null
  },
  {
   "cell_type": "markdown",
   "metadata": {},
   "source": [
    "----\n",
    "The action of the integration connector has been to catalog the new file and the folders above it.\n",
    "The catalog definition is minimal, consisting of just what can be gleaned from the file system plus the setting of the default zone for assets catalogued by Data Manager OMAS on cocoMDS1.\n",
    "\n",
    "It is possible to provide the integration connector with a template metadata element to copy when it\n",
    "is cataloguing files.   This template can include classifications such as zones, origin, confidentiality and attachments such as\n",
    "connections, schemas and lineage mappings. (There is more information about templates on the\n",
    "[Egeria website](https://egeria-project.org/features/templated-cataloguing/overview/)).\n",
    "\n",
    "Templates are used to set up values for the assets created by the connector that are always the same.\n",
    "In this example, all of the files that this connector encounters are from the Oak Dene Hospital so we can use a template to set up the\n",
    "file's origin and the connection information needed to access the file.\n",
    "\n",
    "Including this type of detail in the asset means that no-one has to remember that this landing area folder was used by\n",
    "the Oak Dene Hospital and it simplifies the downstream cataloguing.\n",
    "Other values that are useful to set up in a template are any licenses for the file, schema information, zones, known lineage to this\n",
    "directory, plus other classifications.  Information about the types of information that can be attached to an\n",
    "asset are available on the [Egeria website](https://egeria-project.org/patterns/metadata-manager/overview/).\n",
    "\n"
   ]
  },
  {
   "cell_type": "markdown",
   "metadata": {},
   "source": [
    "## Working with templates\n",
    "\n",
    "If you know the class name of an integration connector's provider, it is possible to check if the connector is of the right type for an integration service.  This function also returns full details of the connector type, which often includes descriptive information as well as the configuration properties that it supports.\n",
    "\n",
    "The connectors configured in the Files Integrator OMIS are shown in figure 8:\n",
    "\n",
    "![Figure 8](../images/integration-daemon.png)\n",
    "> **Figure 8:** exchangeDL01 with its connectors\n",
    "\n",
    "The class names of these integration connectors' providers can be seen in the connection object embedded in the error message displayed with the connectors' status.\n",
    "\n",
    "The commands below request that the Files Integrator OMIS service validate and return the connector type for each of these connectors.\n",
    "\n",
    "----"
   ]
  },
  {
   "cell_type": "code",
   "metadata": {},
   "source": [
    "dataFilesMonitorProviderClassName = \"org.odpi.openmetadata.adapters.connectors.integration.basicfiles.DataFilesMonitorIntegrationProvider\"\n",
    "dataFolderMonitorProviderClassName = \"org.odpi.openmetadata.adapters.connectors.integration.basicfiles.DataFolderMonitorIntegrationProvider\"\n",
    "\n",
    "print(\"\")\n",
    "print(\"Data Files Monitor Integration Connector Type:\")\n",
    "validateIntegrationConnector(exchangeDL01Name, exchangeDL01PlatformName, exchangeDL01PlatformURL, \"files-integrator\", petersUserId, dataFilesMonitorProviderClassName)\n",
    "print(\"\")\n"
   ],
   "outputs": [],
   "execution_count": null
  },
  {
   "cell_type": "markdown",
   "metadata": {},
   "source": [
    "----"
   ]
  },
  {
   "cell_type": "code",
   "metadata": {},
   "source": [
    "\n",
    "print(\"\")\n",
    "print(\"Data Folder Monitor Integration Connector Type:\")\n",
    "validateIntegrationConnector(exchangeDL01Name, exchangeDL01PlatformName, exchangeDL01PlatformURL, \"files-integrator\", petersUserId, dataFolderMonitorProviderClassName)\n",
    "print(\"\")\n"
   ],
   "outputs": [],
   "execution_count": null
  },
  {
   "cell_type": "markdown",
   "metadata": {},
   "source": [
    "----\n",
    "Both connectors supports the `templateQualifiedName` and the `allowCatalogDelete` configuration properties.  If you are curious\n",
    "about their meaning, review the definitions in the connector catalog:\n",
    "\n",
    "* [Data Files Monitor Integration Connector](https://egeria-project.org/connectors/integration/data-files-monitor-integration-connector/)\n",
    "* [Data Folder Monitor Integration Connector](https://egeria-project.org/connectors/integration/data-folder-monitor-integration-connector/)\n",
    "\n",
    "Peter is going to set the `templateQualifiedName` with the qualified name of an asset that has the origin set up for the originating hospital and membership of the default governance zone of \"quarantine\".\n",
    "This zone means that the asset is still being set up and it is not visible to the data lake users.\n",
    "\n",
    "----\n",
    "\n",
    "The commands below creates the template for the assets catalogued in the Oak Dene hospital landing folder.\n",
    "\n",
    "----"
   ]
  },
  {
   "cell_type": "code",
   "metadata": {},
   "source": [
    "newAssetZone    = \"quarantine\"\n",
    "\n",
    "## Set up landing area template for Oak Dene hospital\n",
    "\n",
    "t1AssetName     = \"Oak Dene Template\"\n",
    "t1PathName      = \"template:clinical-trials:drop-foot:weekly-measurements:oak-dene.csv\"\n",
    "t1DisplayName   = \"Drop Foot Clinical Trial Measurements Template Asset: Oak Dene\"\n",
    "t1Description   = \"Measurement file from Oak Dene Hospital.\"\n",
    "t1Contact       = \"Robbie Records\"\n",
    "t1Dept          = \"Drop Foot Research Centre\"\n",
    "t1Org           = \"Oak Dene Hospital\"\n",
    "\n",
    "template1guids = assetOwnerCreateCSVAsset(cocoMDS1Name, cocoMDS1PlatformName, cocoMDS1PlatformURL, petersUserId, t1DisplayName, t1Description, t1PathName)\n",
    "template1guid = getLastGUID(template1guids)\n",
    "addOrigin(cocoMDS1Name, cocoMDS1PlatformName, cocoMDS1PlatformURL, petersUserId, t1AssetName, template1guid, t1Contact, t1Dept, t1Org)\n",
    "addZones(cocoMDS1Name, cocoMDS1PlatformName, cocoMDS1PlatformURL, petersUserId, t1AssetName, template1guid, [newAssetZone])\n",
    "\n",
    "print (\"\\n\\nNew Template Asset:\")\n",
    "assetOwnerPrintAssets(cocoMDS1Name, cocoMDS1PlatformName, cocoMDS1PlatformURL, petersUserId, \".*Template.*\")\n"
   ],
   "outputs": [],
   "execution_count": null
  },
  {
   "cell_type": "markdown",
   "metadata": {},
   "source": [
    "----\n",
    "\n",
    "With the template defined, Peter reconfigures the Oak Dene integration connector to use the template ...\n",
    "\n",
    "---"
   ]
  },
  {
   "cell_type": "code",
   "metadata": {},
   "source": [
    "\n",
    "t1ConnectorName = \"OakDeneLandingAreaFilesMonitor\"\n",
    "t1ConfigurationProperties = {\n",
    "    \"templateQualifiedName\" : t1PathName\n",
    "}\n",
    "\n",
    "updateConnectorConfigurationProperties(exchangeDL01Name, exchangeDL01PlatformName, exchangeDL01PlatformURL, petersUserId,\\\n",
    "                                       t1ConnectorName, t1ConfigurationProperties)\n"
   ],
   "outputs": [],
   "execution_count": null
  },
  {
   "cell_type": "markdown",
   "metadata": {},
   "source": [
    "----\n",
    "\n",
    "Peter verifies that the configuration properties have been updated, using a command that retrieves the configuration properties for the integration connector.\n",
    "\n",
    "----"
   ]
  },
  {
   "cell_type": "code",
   "metadata": {},
   "source": [
    "\n",
    "print(\"Configuration properties update for connector: \" + t1ConnectorName)\n",
    "getIntegrationConnectorConfigProperties(exchangeDL01Name, exchangeDL01PlatformName, exchangeDL01PlatformURL, petersUserId, t1ConnectorName)\n"
   ],
   "outputs": [],
   "execution_count": null
  },
  {
   "cell_type": "markdown",
   "metadata": {},
   "source": [
    "----\n",
    "\n",
    "To test the new template, Peter add the file for week 2 into the Oak Dene Hospital's landing area directory.\n",
    "\n",
    "----"
   ]
  },
  {
   "cell_type": "code",
   "metadata": {},
   "source": [
    "\n",
    "addFileToLandingArea(OakDeneSourceFolder, OakDeneLandingDirectory, \"2\", \"FTP Oak Dene Week 2\")\n",
    " "
   ],
   "outputs": [],
   "execution_count": null
  },
  {
   "cell_type": "markdown",
   "metadata": {},
   "source": [
    "----\n",
    "\n",
    "The newly catalogued file, `week2.csv`, has the origin set up.  This shows that the template is working.\n",
    "\n",
    "Compare the `week1.csv` with the `week2.csv`...\n",
    "\n",
    "----"
   ]
  },
  {
   "cell_type": "code",
   "metadata": {},
   "source": [
    "\n",
    "assetOwnerPrintAssets(cocoMDS1Name, cocoMDS1PlatformName, cocoMDS1PlatformURL, petersUserId, \".*clinical-trials/drop-foot/week.*\")\n"
   ],
   "outputs": [],
   "execution_count": null
  },
  {
   "cell_type": "markdown",
   "metadata": {},
   "source": [
    "----\n",
    "Peter is now cataloguing files arriving in the landing folders and their origin is set up - and so phase 2 shown in figure 9 is complete.\n",
    "\n",
    "\n",
    "![Phase 2](../images/automated-curation-scenario-2.png)\n",
    "> **Figure 9:** Phase 2: Creating assets for newly arrived files with a template"
   ]
  },
  {
   "cell_type": "markdown",
   "metadata": {},
   "source": [
    "----\n",
    "\n",
    "The integration daemon now supports the cataloguing of new files received from the Oak Dene hospital.  The files are represented by `CSVFile` assets.  The template used when creating these assets ensures the origin is set up with the details of the particular hospital that sent the file. \n",
    "\n",
    "One of the requirements of the onboarding process was that files remained in the landing area for as short a time as possible. Peter and Erin need to define an automated process that will immediately bring the files from the landing area into the data lake and catalog them with the appropriate classification and lineage.\n",
    "\n",
    "## Creating a governance action process for new assets\n",
    "\n",
    "Up to this point in the lab, we have been calling governance actions directly.\n",
    "A *Governance Action Process* defines a flow of calls to the governance engines.\n",
    "Each call results in the creation of a *Governance Action* that runs as you have seen above.\n",
    "\n",
    "A governance action process is represented by a metadata element of type [GovernanceActionProcess](https://egeria-project.org/types/4/0462-Governance-Action-Types).\n",
    "This element gives the process a unique name and the anchor point to connect it into the governance action definitions.\n",
    "\n",
    "Erin defines the governance action process first.\n",
    "\n",
    "----"
   ]
  },
  {
   "cell_type": "code",
   "metadata": {},
   "source": [
    "governanceActionProcessName = \"governance-action-process:clinical-trials:drop-foot:weekly-measurements:onboarding\"\n",
    "\n",
    "qualifiedName = governanceActionProcessName\n",
    "displayName   = \"Drop Foot Onboard Weekly Measurement Files\"\n",
    "description   = \"Ensures that new weekly drop foot measurement files from the hospitals are correctly catalogued in the data lake.\"\n",
    "technicalName = \"DFOBWKLY01\"\n",
    "technicalDescription = \"\"\" This process performs the follow function:\n",
    " 1) The physical file is moved to the data lake and renamed \n",
    " 2) A new asset is created for the new file \n",
    " 3) Lineage is created between the orginal file asset and the new file asset\n",
    " 4) The owner and origin are assigned\n",
    " 5) The governance zones are assigned to make the new asset visible to the research team.\"\"\"\n",
    "\n",
    "governanceActionProcessGUID = createGovernanceActionProcess(cocoMDS2Name, cocoMDS2PlatformName, cocoMDS2PlatformURL, erinsUserId, qualifiedName, displayName, description, technicalName, technicalDescription)\n"
   ],
   "outputs": [],
   "execution_count": null
  },
  {
   "cell_type": "markdown",
   "metadata": {},
   "source": [
    "----\n",
    "\n",
    "She then adds the definitions of which type of governance actions should run when the process is initiated.\n",
    "These definitions are represented by\n",
    "[GovernanceActionType](https://egeria-project.org/practices/types/4/0462-Governance-Action-Types) metadata elements.\n",
    "\n",
    "They are linked together to define which governance action is started depending on the guards produced by the previous governance action.\n",
    "\n",
    "![Governance Action Process Flow](../images/governance-action-process-flow.png)\n",
    "> **Figure 10:** Definition of a governance action process flow using a chain of governance action types"
   ]
  },
  {
   "cell_type": "markdown",
   "metadata": {},
   "source": [
    "----\n",
    "\n",
    "Each GovernanceActionType also links to a Governance Engine.  The governance request type is set up in the relationship.\n",
    "\n",
    "![Governance Action Process Implementation](../images/governance-action-process-implementation.png)\n",
    "> **Figure 11:** Linkage of the governance action process to the Asset Governance governance engine\n",
    "\n",
    "----"
   ]
  },
  {
   "cell_type": "markdown",
   "metadata": {},
   "source": [
    "The first step in the process is to move the file from the landing area to the data lake folder.\n",
    "\n",
    "For this Erin is using a different call to the `Move/Copy File` Governance Action Service.\n",
    "This instance will be called using the `move-file` request type which moves the file, produces lineage and changes the resulting filename so that the files are sequenced according to their arrival.  For example:\n",
    " * DropFoot_000001.csv\n",
    " * DropFoot_000002.csv\n",
    "\n",
    "This aids the time-based loading of the files into a database by ensuring any corrections to the readings are applied in the\n",
    "correct order if a hospital sends a correction file at a later date.\n",
    "\n",
    "Erin defines the call to this governance action service via the following governance action type.\n",
    "Notice that the template created for cataloguing the files as they move into the data lake directory is set up in the `destinationFileTemplateQualifiedName` requestParameter as required for phase 5.\n",
    "\n",
    "![Phase 3](../images/automated-curation-scenario-3.png)\n",
    "> **Figure 12:** Phase 3: Set up the process to provision files from the landing area to the data lake\n",
    "\n",
    "----"
   ]
  },
  {
   "cell_type": "code",
   "metadata": {},
   "source": [
    "## Retrieve the unique identifier of the governance engine\n",
    "\n",
    "assetGovernanceEngineGUID = getGovernanceEngineGUID(cocoMDS2Name, cocoMDS2PlatformName, cocoMDS2PlatformURL, erinsUserId, assetGovernanceEngineName)\n",
    "\n",
    "## Set up the template for new files in the data lake\n",
    "\n",
    "t3AssetName     = \"Data Lake Measurements Template\"\n",
    "t3PathName      = \"template:clinical-trials:drop-foot:weekly-measurements:data-lake.csv\"\n",
    "t3QualifiedName = \"CSVFile:\" + t3PathName\n",
    "t3DisplayName   = \"Drop Foot Clinical Trial Measurements Template Asset: Data Lake\"\n",
    "t3Description   = \"Weekly measurements file from a single hospital.\"\n",
    "t3Owner         = \"tanyatidie\"\n",
    "t3OwnerType     = \"USER_ID\"\n",
    "\n",
    "template3guids = assetOwnerCreateCSVAsset(cocoMDS1Name, cocoMDS1PlatformName, cocoMDS1PlatformURL, petersUserId, t3DisplayName, t3Description, t3PathName)\n",
    "template3guid = getLastGUID(template3guids)\n",
    "addOwner(cocoMDS1Name, cocoMDS1PlatformName, cocoMDS1PlatformURL, petersUserId, t3AssetName, template3guid, t3Owner, t3OwnerType)\n",
    "addZones(cocoMDS1Name, cocoMDS1PlatformName, cocoMDS1PlatformURL, petersUserId, t3AssetName, template3guid, [newAssetZone])\n",
    "\n",
    "## Create the provisioning step in the process\n",
    "\n",
    "prGovernanceServiceRequestType = \"move-file\"\n",
    "\n",
    "prGovernanceServiceType = \"provision-weekly-measurements-governance-action-type\"\n",
    "prSupportedGuards = [\"provisioning-complete\", \"provisioning-failed\"]\n",
    "prGovernanceServiceRequestParameters = {\n",
    "        \"destinationFileTemplateQualifiedName\" : t3QualifiedName,\n",
    "        \"targetFileNamePattern\" : \"DropFoot_{1, number,000000}.csv\",\n",
    "        \"destinationFolder\" : dataLakeDirectory\n",
    "    }\n",
    "\n",
    "prActionTypeGUID = None\n",
    "prActionTypeGUID = createGovernanceActionType(cocoMDS2Name, cocoMDS2PlatformName, cocoMDS2PlatformURL, erinsUserId,\\\n",
    "                                              assetGovernanceEngineGUID, prGovernanceServiceType, prSupportedGuards,\\\n",
    "                                              prGovernanceServiceRequestType, prGovernanceServiceRequestParameters) \n",
    "\n",
    "if prActionTypeGUID:\n",
    "    setupFirstActionType(cocoMDS2Name, cocoMDS2PlatformName, cocoMDS2PlatformURL, erinsUserId, governanceActionProcessGUID,\\\n",
    "                         prActionTypeGUID, False)\n"
   ],
   "outputs": [],
   "execution_count": null
  },
  {
   "cell_type": "markdown",
   "metadata": {},
   "source": [
    "----\n",
    "\n",
    "Now that the files are in the correct folder with the appropiate file name and a new catalog entry has been created, it is time to\n",
    "add the last touches to the catalog entry before it is published to the data lake users.\n",
    "This is phase 6 of the onboarding process.\n",
    "\n",
    "![Phase 3](../images/automated-curation-scenario-3b.png)\n",
    "> **Figure 13:** Phase 3: Extend the governance action process to enrich the asset\n",
    "\n",
    "The template used to create the catalog was able to set up the owner of the file because it is the same for each file that is moved into this directory.\n",
    "However, the origin is variable, depending on which hospital send the original file.\n",
    "To set the origin, we are going to use the\n",
    "[Origin Seeker Remediation Governance Action Service](https://egeria-project.org/connectors/governance-action/origin-seeker-remediation-governance-action-service/)\n",
    "that is able to navigate back through the lineage relationship created by the `Move/Copy File` governance action service to pick up the origin from the landing area asset.\n",
    "\n",
    "----"
   ]
  },
  {
   "cell_type": "code",
   "metadata": {},
   "source": [
    "\n",
    "osGovernanceServiceRequestType = \"seek-origin\"\n",
    "\n",
    "osPreviousGuard = \"provisioning-complete\"\n",
    "osGovernanceServiceType = \"origin-seeker-measurements-governance-action-type\"\n",
    "osSupportedGuards = [ \"origin-assigned\", \"origin-already-assigned\", \"multiple-origins-detected\", \"no-origins-detected\", \"no-targets-detected\", \"multiple-targets-detected\", \"origin-seeking-failed\"]\n",
    "osGovernanceServiceRequestParameters = {\n",
    "        \"destinationFileTemplateQualifiedName\" : t3QualifiedName\n",
    "    }\n",
    "\n",
    "osActionTypeGUID = createGovernanceActionType(cocoMDS2Name, cocoMDS2PlatformName, cocoMDS2PlatformURL, erinsUserId,\\\n",
    "                                              assetGovernanceEngineGUID, osGovernanceServiceType, osSupportedGuards,\\\n",
    "                                              osGovernanceServiceRequestType, osGovernanceServiceRequestParameters) \n",
    "\n",
    "setupNextActionType(cocoMDS2Name, cocoMDS2PlatformName, cocoMDS2PlatformURL, erinsUserId, prActionTypeGUID,\\\n",
    "                    osActionTypeGUID, osPreviousGuard, True, True)"
   ],
   "outputs": [],
   "execution_count": null
  },
  {
   "cell_type": "markdown",
   "metadata": {},
   "source": [
    "----\n",
    "\n",
    "Once the origin is set, the asset is completely defined and it is ready to be consumed by the data lake users.\n",
    "The last governance action service called `ZonePublisher` sets the zone membership for the asset so that it becomes visible to the data lake users.\n",
    "\n",
    "----"
   ]
  },
  {
   "cell_type": "code",
   "metadata": {},
   "source": [
    "\n",
    "zpGovernanceServiceRequestType = \"set-zone-membership\"\n",
    "\n",
    "zpPreviousGuard = \"origin-assigned\"\n",
    "zpGovernanceServiceType = \"zone-publisher-measurements-governance-action-type\"\n",
    "zpSupportedGuards = [ \"zone-assigned\",\"no-zones-detected\",\"no-targets-detected\", \"zone-publishing-failed\"]\n",
    "zpGovernanceServiceRequestParameters = {\n",
    "    \"publishZones\" : \"data-lake,clinical-trials\"\n",
    "    }\n",
    "\n",
    "zpActionTypeGUID = createGovernanceActionType(cocoMDS2Name, cocoMDS2PlatformName, cocoMDS2PlatformURL, erinsUserId,\\\n",
    "                                              assetGovernanceEngineGUID, zpGovernanceServiceType, zpSupportedGuards,\\\n",
    "                                              zpGovernanceServiceRequestType, zpGovernanceServiceRequestParameters) \n",
    "\n",
    "setupNextActionType(cocoMDS2Name, cocoMDS2PlatformName, cocoMDS2PlatformURL, erinsUserId, osActionTypeGUID, zpActionTypeGUID,\\\n",
    "                    zpPreviousGuard, True, True)\n"
   ],
   "outputs": [],
   "execution_count": null
  },
  {
   "cell_type": "markdown",
   "metadata": {},
   "source": [
    "----\n",
    "\n",
    "Erin now has the process that will complete the onboarding of the files into the data lake.\n",
    "\n",
    "The next step is to set up a listener for the events broadcast when a new asset is created by the integration connectors to represent a new file appearing in the landing area directory.\n",
    "When the listener receives such an event,\n",
    "it should initiate a new instance of this governance action process to move the file into the data lake, \n",
    "catalog the file in its new location as a new asset,\n",
    "link it with lineage to the original asset and add the appropriate classifications to the new data lake asset.\n",
    "\n",
    "The movement of the file out of the landing area causes the appropriate landing area integration connector to archive the associated asset.  This means that the [*Memento*](https://egeria-project.org/concepts/memento/) classification is added to it and it becomes invisible to all but lineage requests.\n",
    "\n",
    "## Listening for new assets\n",
    "\n",
    "The watchdog governance action services are responsible for listening for events that indicate specific types of activity and then acting on it.\n",
    "They can initiate\n",
    "a [governance action](https://egeria-project.org/concepts/governance-action),\n",
    "a [governance action process](https://egeria-project.org/concepts/governance-action-process) or\n",
    "an [incident report](https://egeria-project.org/concepts/incident-report).\n",
    "\n",
    "Erin sets up a watchdog governance action service called `GenericFolderWatchdog` to listen for assets that are catalogued and linked to the landing area directory.  When assets appear in the catalog (created by the integration connectors monitoring the landing area), the watchdog governance action service will run the `governance-action-process:clinical-trials:drop-foot:weekly-measurements:onboarding` governance action process just defined above.\n",
    "\n",
    "----"
   ]
  },
  {
   "cell_type": "code",
   "metadata": {},
   "source": [
    "watchdogGovernanceServiceRequestType = \"watch-for-new-files\"\n",
    "watchdogGovernanceServiceProcessToCall = governanceActionProcessName\n",
    "\n",
    "\n",
    "requestParameters = {\n",
    "        \"interestingTypeName\" : \"DataFile\",\n",
    "        \"folderName\" : landingAreaDirectoryName,\n",
    "        \"actionTargetName\" : \"sourceFile\",\n",
    "        \"newElementProcessName\" : watchdogGovernanceServiceProcessToCall\n",
    "    }\n",
    "qualifiedName = \"Listener: \" + landingAreaDirectory\n",
    "\n",
    "governanceActionGUID = None\n",
    "governanceActionGUID = initiateGovernanceAction(cocoMDS2Name,\n",
    "                                                cocoMDS2PlatformName,\n",
    "                                                cocoMDS2PlatformURL,\n",
    "                                                erinsUserId,\n",
    "                                                assetGovernanceEngineName,\n",
    "                                                qualifiedName,\n",
    "                                                watchdogGovernanceServiceRequestType,\n",
    "                                                requestParameters,\n",
    "                                                \"Landing Area Monitoring\")\n",
    "\n",
    "print(\"Sleeping to ensure watchdog service is running ...\")\n",
    "time.sleep(2)\n",
    "\n",
    "print(\"Done. \")"
   ],
   "outputs": [],
   "execution_count": null
  },
  {
   "cell_type": "markdown",
   "metadata": {},
   "source": [
    "----\n",
    "\n",
    "The watchdog service is listening for events.  Here is its governance action.  You can see that its *actionStatus* is `IN_PROGRESS`\n",
    "\n",
    "----"
   ]
  },
  {
   "cell_type": "code",
   "metadata": {},
   "source": [
    "\n",
    "printGovernanceAction(cocoMDS2Name,cocoMDS2PlatformName, cocoMDS2PlatformURL, erinsUserId, governanceActionGUID)\n"
   ],
   "outputs": [],
   "execution_count": null
  },
  {
   "cell_type": "markdown",
   "metadata": {},
   "source": [
    "----\n",
    "\n",
    "With the watchdog in place, any new files added to the metadata repository will trigger a governance action process called `governance-action-process:clinical-trials:drop-foot:weekly-measurements:onboarding`.\n",
    "\n",
    "![Phase 4](../images/automated-curation-scenario-3.png)\n",
    "> **Figure 14:** Phase 4: Triggering provisioning of the file in to the data lake\n",
    "\n",
    "----\n",
    "\n",
    "Peter provisions the week 3 file in to the Oak Dene Hospital's landing area folder\n",
    "to see if the process is triggered and the file is moved to the data lake folder.\n",
    "\n",
    "----"
   ]
  },
  {
   "cell_type": "code",
   "metadata": {},
   "source": [
    "\n",
    "addFileToLandingArea(OakDeneSourceFolder, OakDeneLandingDirectory, \"3\", \"FTP Oak Dene Week 3\")\n"
   ],
   "outputs": [],
   "execution_count": null
  },
  {
   "cell_type": "markdown",
   "metadata": {},
   "source": [
    "----\n",
    "\n",
    "Peter monitors the status of the governance actions.  \n",
    "\n",
    "*Retry running the* monitorGovernanceActions *command until you can see all of the governance actions with a status of `ACTIONED` except the watchdog governance action that stays `IN_PROGRESS`.*\n",
    "\n",
    "----"
   ]
  },
  {
   "cell_type": "code",
   "metadata": {},
   "source": [
    "\n",
    "monitorGovernanceActions(cocoMDS2Name, cocoMDS2PlatformName, cocoMDS2PlatformURL, petersUserId)\n",
    "time.sleep(3)"
   ],
   "outputs": [],
   "execution_count": null
  },
  {
   "cell_type": "markdown",
   "metadata": {},
   "source": [
    "----\n",
    "\n",
    "The file is created in the data lake folder with all of the correct attributes.  \n",
    "\n",
    "*If no asset is returned, or a classification is missing, repeatedly run* assetOwnerPrintAssets *again until the fully populated asset appears.*\n",
    "\n",
    "----"
   ]
  },
  {
   "cell_type": "code",
   "metadata": {},
   "source": [
    "\n",
    "assetOwnerPrintAssets(cocoMDS1Name, cocoMDS1PlatformName, cocoMDS1PlatformURL, petersUserId, \".*clinical-trials/drop-foot/weekly-measurements/.*\")\n"
   ],
   "outputs": [],
   "execution_count": null
  },
  {
   "cell_type": "markdown",
   "metadata": {},
   "source": [
    "----\n",
    "\n",
    "The week3.csv file in the landing area is gone.\n",
    "\n",
    "----"
   ]
  },
  {
   "cell_type": "code",
   "metadata": {},
   "source": [
    "\n",
    "assetOwnerPrintAssets(cocoMDS1Name, cocoMDS1PlatformName, cocoMDS1PlatformURL, petersUserId, \".*landing-area/hospitals/oak-dene/clinical-trials/drop-foot/.*\")\n"
   ],
   "outputs": [],
   "execution_count": null
  },
  {
   "cell_type": "markdown",
   "metadata": {},
   "source": [
    "----\n",
    "\n",
    "The process of provisioning a file into the data lake creates the data lake directory.\n",
    "The data lake directory's integration connector in the integration daemon will now be able to run.\n",
    "\n",
    "The directory is catalogued as a DataFolder asset in the metadata repository.  This type of asset indicates that the files and directories\n",
    "stored underneath this folder are the elements/records in the DataFolder asset and so each time there is a change to the\n",
    "files and directories under the monitored directory, the integration connector makes an update to the lastModified property\n",
    "of the DataFolder asset to show the arrival of new data.\n",
    "\n",
    "----"
   ]
  },
  {
   "cell_type": "code",
   "metadata": {},
   "source": [
    "\n",
    "restartIntegrationConnector(exchangeDL01Name, exchangeDL01PlatformName, exchangeDL01PlatformURL, petersUserId, dataLakeDirectoryConnectorName)\n"
   ],
   "outputs": [],
   "execution_count": null
  },
  {
   "cell_type": "markdown",
   "metadata": {},
   "source": [
    "----\n",
    "\n",
    "We can check that the connector is running ...\n",
    "\n",
    "----"
   ]
  },
  {
   "cell_type": "code",
   "metadata": {},
   "source": [
    "\n",
    "getIntegrationDaemonStatus(exchangeDL01Name, exchangeDL01PlatformName, exchangeDL01PlatformURL, petersUserId)\n"
   ],
   "outputs": [],
   "execution_count": null
  },
  {
   "cell_type": "markdown",
   "metadata": {},
   "source": [
    "----\n",
    "\n",
    "As a final check, Peter first uses the `Move/Copy File` governance action service to add the last two weeks files from Oak Dene landing area.  They drive the pipeline two more times to add the final two files to the data lake.\n",
    "\n",
    "----"
   ]
  },
  {
   "cell_type": "code",
   "metadata": {},
   "source": [
    "# Add the remaining files from Oak Dene Hospital\n",
    "\n",
    "addFileToLandingArea(OakDeneSourceFolder,   OakDeneLandingDirectory,   \"4\", \"FTP Oak Dene Hospital Week 4\")\n",
    "addFileToLandingArea(OakDeneSourceFolder,   OakDeneLandingDirectory,   \"5\", \"FTP Oak Dene Hospital Week 5\")"
   ],
   "outputs": [],
   "execution_count": null
  },
  {
   "cell_type": "markdown",
   "metadata": {},
   "source": [
    "----\n",
    "\n",
    "The files added to Oak Dene Hospital's landing folder are immedately catalogued as new assets by its integration connector.  The newly created assets are picked up by the *watchdog governance service* and it kicks off the *governance action process* which moves them into the data lake folder and sets up the origin and governance zone classifications on the asset so they are ready for use.\n",
    "\n",
    "Peter checks there are no new files catalogued for the landing area.\n",
    "\n",
    "----"
   ]
  },
  {
   "cell_type": "code",
   "metadata": {},
   "source": [
    "\n",
    "assetOwnerPrintAssets(cocoMDS1Name, cocoMDS1PlatformName, cocoMDS1PlatformURL, petersUserId, \".*landing-area/hospitals/oak-dene/clinical-trials/drop-foot/.*\")\n"
   ],
   "outputs": [],
   "execution_count": null
  },
  {
   "cell_type": "markdown",
   "metadata": {},
   "source": [
    "----\n",
    "\n",
    "They have been populated into the data lake with the correct classifications.\n",
    "\n",
    "----"
   ]
  },
  {
   "cell_type": "code",
   "metadata": {},
   "source": [
    "\n",
    "assetOwnerPrintAssets(cocoMDS1Name, cocoMDS1PlatformName, cocoMDS1PlatformURL, petersUserId, \".*clinical-trials/drop-foot/weekly-measurements/.*\")\n"
   ],
   "outputs": [],
   "execution_count": null
  },
  {
   "cell_type": "markdown",
   "metadata": {},
   "source": [
    "----\n",
    "\n",
    "## Adding a new hospital to the clinical trial\n",
    "\n",
    "One of the reasons for automating the pipeline is to make it easy to add new hospitals to a clinical trial.  In Peter's\n",
    "next experiment, he adds new definitions for an integration from a second hospital called *Old Market*.\n",
    "\n",
    "----"
   ]
  },
  {
   "cell_type": "code",
   "metadata": {},
   "source": [
    "OldMarketLandingDirectory = landingAreaDirectory + '/old-market/clinical-trials/drop-foot'\n",
    "\n",
    "## Set up landing area template for Old Market hospital\n",
    "\n",
    "t2AssetName     = \"Old Market Template\"\n",
    "t2PathName      = \"template:clinical-trials:drop-foot:weekly-measurements:old-market.csv\"\n",
    "t2DisplayName   = \"Drop Foot Clinical Trial Measurements Template Asset: Old Market\"\n",
    "t2Description   = \"Measurement file from Old Market Hospital.\"\n",
    "t2Contact       = \"TBD\"\n",
    "t2Dept          = \"DFRG1F6\"\n",
    "t2Org           = \"Old Market Hospital\"\n",
    "\n",
    "template2guids = assetOwnerCreateCSVAsset(cocoMDS1Name, cocoMDS1PlatformName, cocoMDS1PlatformURL, petersUserId, t2DisplayName, t2Description, t2PathName)\n",
    "template2guid = getLastGUID(template2guids)\n",
    "addOrigin(cocoMDS1Name, cocoMDS1PlatformName, cocoMDS1PlatformURL, petersUserId, t2AssetName, template2guid, t2Contact, t2Dept, t2Org)\n",
    "addZones(cocoMDS1Name, cocoMDS1PlatformName, cocoMDS1PlatformURL, petersUserId, t2AssetName, template2guid, [newAssetZone])"
   ],
   "outputs": [],
   "execution_count": null
  },
  {
   "cell_type": "code",
   "metadata": {},
   "source": [
    "## Set up the integration connector\n",
    "\n",
    "OldMarketConnectorName         = \"OldMarketLandingAreaFilesMonitor\"\n",
    "OldMarketConnectorDescription  = \"Listener for incoming weekly measurement files from Old Market hospital.\"\n",
    "OldMarketConnectorUserId       = \"onboardDL01npa\"\n",
    "OldMarketConnectorSourceName   = \"HospitalLandingArea\"\n",
    "OldMarketConnectorFolder       = fileSystemRoot + '/landing-area/hospitals/old-market/clinical-trials/drop-foot'\n",
    "OldMarketConnectorConnection   = { \n",
    "                                      \"class\" : \"Connection\",\n",
    "                                      \"qualifiedName\" : \"Connection:\" + OldMarketConnectorName,\n",
    "                                      \"connectorType\" : \n",
    "                                      {\n",
    "                                           \"class\" : \"ConnectorType\",\n",
    "                                           \"qualifiedName\" : \"ConnectorType:\" + OldMarketConnectorName,\n",
    "                                           \"connectorProviderClassName\" : \"org.odpi.openmetadata.adapters.connectors.integration.basicfiles.DataFilesMonitorIntegrationProvider\"           \n",
    "                                      },\n",
    "                                      \"endpoint\" :\n",
    "                                      {\n",
    "                                           \"class\" : \"Endpoint\",\n",
    "                                           \"qualifiedName\" : \"Endpoint:\" + OldMarketConnectorName,\n",
    "                                           \"address\" : OldMarketConnectorFolder\n",
    "                                      },\n",
    "                                      \"configurationProperties\" :\n",
    "                                      {\n",
    "                                           \"templateQualifiedName\" : t2PathName\n",
    "                                      }\n",
    "                                 }\n",
    "\n",
    "\n",
    "oldMarketIntegrationConnectorGUID = createIntegrationConnector(cocoMDS2Name, cocoMDS2PlatformName, cocoMDS2PlatformURL, erinsUserId, OldMarketConnectorName, OldMarketConnectorDescription, OldMarketConnectorConnection)\n",
    "if oldMarketIntegrationConnectorGUID:\n",
    "    print(\"Old Markets's Integration Connector GUID is: \" + oldMarketIntegrationConnectorGUID)\n",
    "\n",
    "addIntegrationConnectorToGroup(cocoMDS2Name, cocoMDS2PlatformName, cocoMDS2PlatformURL, erinsUserId, integrationGroupGUID, oldMarketIntegrationConnectorGUID, OldMarketConnectorName, OldMarketConnectorUserId, OldMarketConnectorSourceName, 10)"
   ],
   "outputs": [],
   "execution_count": null
  },
  {
   "cell_type": "code",
   "metadata": {},
   "source": [
    "\n",
    "refreshIntegrationGroupConfig(exchangeDL01Name, exchangeDL01PlatformName, exchangeDL01PlatformURL, petersUserId, integrationGroupName)\n"
   ],
   "outputs": [],
   "execution_count": null
  },
  {
   "cell_type": "markdown",
   "metadata": {},
   "source": [
    "----\n",
    "\n",
    "Since no files have been received, the new connector is in `FAILED` status because its folder is not created.\n",
    "\n",
    "----"
   ]
  },
  {
   "cell_type": "code",
   "metadata": {},
   "source": [
    "\n",
    "getIntegrationDaemonStatus(exchangeDL01Name, exchangeDL01PlatformName, exchangeDL01PlatformURL, petersUserId)\n"
   ],
   "outputs": [],
   "execution_count": null
  },
  {
   "cell_type": "markdown",
   "metadata": {},
   "source": [
    "----\n",
    "\n",
    "Peter provisions five files into the landing area.\n",
    "\n",
    "----"
   ]
  },
  {
   "cell_type": "code",
   "metadata": {},
   "source": [
    "# Add all of the files from Old Market Hospital\n",
    "\n",
    "addFileToLandingArea(OldMarketSourceFolder, OldMarketLandingDirectory, \"1\", \"FTP Old Market Hospital Week 1\")\n",
    "addFileToLandingArea(OldMarketSourceFolder, OldMarketLandingDirectory, \"2\", \"FTP Old Market Hospital Week 2\")\n",
    "addFileToLandingArea(OldMarketSourceFolder, OldMarketLandingDirectory, \"3\", \"FTP Old Market Hospital Week 3\")\n",
    "addFileToLandingArea(OldMarketSourceFolder, OldMarketLandingDirectory, \"4\", \"FTP Old Market Hospital Week 4\")\n",
    "addFileToLandingArea(OldMarketSourceFolder, OldMarketLandingDirectory, \"5\", \"FTP Old Market Hospital Week 5\")\n",
    "print(\"Done. \")"
   ],
   "outputs": [],
   "execution_count": null
  },
  {
   "cell_type": "markdown",
   "metadata": {},
   "source": [
    "----\n",
    "\n",
    "Because the Old Market integration connector is in `FAILED` status, it is not cataloguing the new files.\n",
    "\n",
    "----"
   ]
  },
  {
   "cell_type": "code",
   "metadata": {},
   "source": [
    "\n",
    "assetOwnerPrintAssets(cocoMDS1Name, cocoMDS1PlatformName, cocoMDS1PlatformURL, petersUserId, \".*landing-area/hospitals/old-market/clinical-trials/drop-foot/.*\")\n"
   ],
   "outputs": [],
   "execution_count": null
  },
  {
   "cell_type": "markdown",
   "metadata": {},
   "source": [
    "----\n",
    "\n",
    "The code below restarts the Old Market Hospital integration connnector in `exchangeDL01`.  It will begin cataloguing the files in that landing area, which will be picked up by the watchdog integration connector, which will kick off the governance action process to move the files to the data lake folder.\n",
    "\n",
    "----"
   ]
  },
  {
   "cell_type": "code",
   "metadata": {},
   "source": [
    "\n",
    "restartIntegrationConnector(exchangeDL01Name, exchangeDL01PlatformName, exchangeDL01PlatformURL, petersUserId, OldMarketConnectorName)\n"
   ],
   "outputs": [],
   "execution_count": null
  },
  {
   "cell_type": "markdown",
   "metadata": {},
   "source": [
    "----\n",
    "\n",
    "When we check the status of the integration daemon, all connectors are running.\n",
    "\n",
    "----"
   ]
  },
  {
   "cell_type": "code",
   "metadata": {},
   "source": [
    "\n",
    "getIntegrationDaemonStatus(exchangeDL01Name, exchangeDL01PlatformName, exchangeDL01PlatformURL, petersUserId)\n"
   ],
   "outputs": [],
   "execution_count": null
  },
  {
   "cell_type": "markdown",
   "metadata": {},
   "source": [
    "----\n",
    "\n",
    "The files are now being catalogued and moved into the data lake folder.  You can see the status of the governance actions as they run to completion by repeatedly running the monitorGovernanceActions command.  You may the governance actions in different states.  The picture below shows the states a governance action moves through. \n",
    "\n",
    "<img src=\"https://egeria-project.org/patterns/metadata-governance/governance-action-status.svg\">\n",
    "\n",
    "\n",
    "When all of the files have been onboarded, all of the governance actions are in `ACTIONED` status exception the watchdog governance action which is `IN_PROGRESS`, listening for new files.  \n",
    "\n",
    "----"
   ]
  },
  {
   "cell_type": "code",
   "metadata": {},
   "source": [
    "\n",
    "monitorGovernanceActions(cocoMDS2Name, cocoMDS2PlatformName, cocoMDS2PlatformURL, petersUserId)\n",
    "time.sleep(3)"
   ],
   "outputs": [],
   "execution_count": null
  },
  {
   "cell_type": "markdown",
   "metadata": {},
   "source": [
    "----\n",
    "\n",
    "Peter checks that all of the files have been created and catalogued in the data lake folder ... \n",
    "\n",
    "There should be 8 assets returned, each with an owner, origin an zones classification set up. If the list is incomplete, or, for example, the origin classification is missing from some of the assets, then try the query again as one or more of the governance actions listed above are still running.\n",
    "\n",
    "----"
   ]
  },
  {
   "cell_type": "code",
   "metadata": {},
   "source": [
    "assetOwnerPrintAssets(cocoMDS1Name, cocoMDS1PlatformName, cocoMDS1PlatformURL, petersUserId, \".*DropFoot_.*\")"
   ],
   "outputs": [],
   "execution_count": null
  },
  {
   "cell_type": "markdown",
   "metadata": {},
   "source": [
    "----\n",
    "\n",
    "Then Peter checks that landing area folder from Oak Dene Hospital still only contains the two original test files ...\n",
    "\n",
    "----"
   ]
  },
  {
   "cell_type": "code",
   "metadata": {},
   "source": [
    "oakDeneLandingAreaFullPath = landingAreaDirectoryName + \"/oak-dene/clinical-trials/drop-foot\"\n",
    "#\n",
    "#\n",
    "# When running in a kubernetes environment, the os.listdir command will fail \n",
    "# because the topology of the system is different. Consequently the default is to comment out this command.\n",
    "# If your topology allows (e.g. you are running Egeria locally to your Jupyter server), feel free to uncomment this \n",
    "# so that you can watch the files change.\n",
    "#\n",
    "# os.listdir (oakDeneLandingAreaFullPath)\n"
   ],
   "outputs": [],
   "execution_count": null
  },
  {
   "cell_type": "markdown",
   "metadata": {},
   "source": [
    "----\n",
    "\n",
    "A similar check that the Old Market Hospital landing area is empty ...\n",
    "\n",
    "----"
   ]
  },
  {
   "cell_type": "code",
   "metadata": {},
   "source": [
    "oldMarketLandingAreaFullPath = landingAreaDirectoryName + \"/old-market/clinical-trials/drop-foot\"\n",
    "#\n",
    "#\n",
    "# When running in a kubernetes environment, the os.listdir command will fail \n",
    "# because the topology of the system is different. Consequently the default is to comment out this command.\n",
    "# If your topology allows (e.g. you are running Egeria locally to your Jupyter server), feel free to uncomment this \n",
    "# so that you can watch the files change.\n",
    "#\n",
    "# os.listdir (oldMarketLandingAreaFullPath)"
   ],
   "outputs": [],
   "execution_count": null
  },
  {
   "cell_type": "markdown",
   "metadata": {},
   "source": [
    "----\n",
    "\n",
    "There should be no catalog entries retrieved for any of the new files that were in the landing area.\n",
    "\n",
    "----"
   ]
  },
  {
   "cell_type": "code",
   "metadata": {},
   "source": [
    "assetOwnerPrintAssets(cocoMDS1Name, cocoMDS1PlatformName, cocoMDS1PlatformURL, petersUserId, \".*landing-area/hospitals/.*csv\")"
   ],
   "outputs": [],
   "execution_count": null
  },
  {
   "cell_type": "markdown",
   "metadata": {},
   "source": [
    "----\n",
    "\n",
    "However, they are still in the catalog, just archived so they are available for lineage.  This next function retrieves the archived file asset.  Notice the `forLineage=true` parameter on the URL.  This tells Egeria that the query is a lineage query and archived assets should be removed.\n",
    "\n",
    "----"
   ]
  },
  {
   "cell_type": "code",
   "metadata": {},
   "source": [
    "def getArchivedFileByPathName(serverName, serverPlatformName, serverPlatformURL, serviceURLMarker, userId, assetPathName):\n",
    "    metadataStoreURL = serverPlatformURL + '/servers/' + serverName + '/open-metadata/framework-services/' + serviceURLMarker + '/open-metadata-store/users/' + userId\n",
    "    getAsset = metadataStoreURL + '/metadata-elements/by-unique-name?forLineage=true&forDuplicateProcessing=false&effectiveTime=0'\n",
    "    getAssetBody = {\n",
    "        \"class\" : \"NameRequestBody\",\n",
    "        \"name\" : assetPathName,\n",
    "        \"nameParameterName\" : \"pathName\",\n",
    "        \"namePropertyName\" : \"pathName\"\n",
    "    }\n",
    "    response=issuePost(getAsset, getAssetBody)\n",
    "    asset = response.json().get('element')\n",
    "    if asset:\n",
    "        return asset\n",
    "    else:\n",
    "        print (\"No Asset returned\")\n",
    "        processErrorResponse(serverName, serverPlatformName, serverPlatformURL, response) "
   ],
   "outputs": [],
   "execution_count": null
  },
  {
   "cell_type": "markdown",
   "metadata": {},
   "source": [
    "----\n",
    "\n",
    "Peter retrieves the asset for `week3.csv`.   Notice that there is a *Memento* classification attached.  This is how archived files are identified. \n",
    "\n",
    "----"
   ]
  },
  {
   "cell_type": "code",
   "metadata": {},
   "source": [
    "asset = getArchivedFileByPathName(cocoMDS1Name, cocoMDS1PlatformName, cocoMDS1PlatformURL, \"asset-owner\", petersUserId, oakDeneLandingAreaFullPath + \"/week3.csv\")\n",
    "\n",
    "if asset:\n",
    "    print(\"Element: \" + asset.get('elementGUID'))\n",
    "    elementProperties = asset.get('elementProperties')\n",
    "    if elementProperties:\n",
    "        print(\"Properties:\")\n",
    "        properties = elementProperties.get('propertyValueMap')\n",
    "        propertyList = list(properties)\n",
    "        for x in range(len(propertyList)):\n",
    "            propertyStructure = properties.get(propertyList[x])\n",
    "            propertyValue = propertyStructure.get('primitiveValue')\n",
    "            print(\"    \" + propertyList[x] + \": \" + propertyValue)\n",
    "\n",
    "    classifications = asset.get('classifications')\n",
    "    if classifications:\n",
    "        print(\"Classifications:\")\n",
    "        for x in range(len(classifications)):\n",
    "            print(\"    \" + classifications[x].get('classificationName'))\n",
    "\n",
    "\n"
   ],
   "outputs": [],
   "execution_count": null
  },
  {
   "cell_type": "markdown",
   "metadata": {},
   "source": [
    "----\n",
    "\n",
    "<img src=\"https://raw.githubusercontent.com/odpi/egeria-docs/main/site/docs/practices/coco-pharmaceuticals/personas/callie-quartile.png\" style=\"float:right\">\n",
    "\n",
    "Finally we check that Callie Quartile, a data scientist working in the research team, is able to see the files from `cocoMDS3`.  There should be 8 assets returned.\n",
    "\n"
   ]
  },
  {
   "cell_type": "code",
   "metadata": {},
   "source": [
    "\n",
    "assetConsumerPrintAssets(cocoMDS3Name, cocoMDS3PlatformName, cocoMDS3PlatformURL, calliesUserId, \".*clinical-trials/drop-foot/weekly-measurements.*\")\n"
   ],
   "outputs": [],
   "execution_count": null
  },
  {
   "cell_type": "code",
   "metadata": {},
   "source": [
    "## If you would like to see more detail for any of these assets, set up the assetGUID value below with the unique identifier (guid)\n",
    "## of the asset you are interested in and uncomment (remove #) from the front of printSelectiveAssetUniverse and then run this cell.\n",
    "\n",
    "assetGUID = \"paste guid here\"\n",
    "\n",
    "#printSelectiveAssetUniverse(cocoMDS3Name, cocoMDS3PlatformName, cocoMDS3PlatformURL, 'asset-consumer', calliesUserId, assetGUID, True, True)"
   ],
   "outputs": [],
   "execution_count": null
  },
  {
   "cell_type": "markdown",
   "metadata": {},
   "source": [
    "----\n",
    "## Where to next\n",
    "\n",
    "* [Improving Data Quality Lab](improving-data-quality-lab.ipynb) - follow Peter as he makes use of automated metadata discovery to detect quality errors in the\n",
    "  measurement files from the hospitals.\n",
    "* [Understanding an Asset](understanding-an-asset.ipynb) - work with Callie to retrieve and understand various assets.\n",
    "\n",
    "----"
   ]
  },
  {
   "cell_type": "code",
   "metadata": {},
   "source": [],
   "outputs": [],
   "execution_count": null
  }
 ],
 "metadata": {
  "kernelspec": {
   "display_name": "Python 3",
   "language": "python",
   "name": "python3"
  },
  "language_info": {
   "codemirror_mode": {
    "name": "ipython",
    "version": 3
   },
   "file_extension": ".py",
   "mimetype": "text/x-python",
   "name": "python",
   "nbconvert_exporter": "python",
   "pygments_lexer": "ipython3",
   "version": "3.7.3"
  }
 },
 "nbformat": 4,
 "nbformat_minor": 4
}
