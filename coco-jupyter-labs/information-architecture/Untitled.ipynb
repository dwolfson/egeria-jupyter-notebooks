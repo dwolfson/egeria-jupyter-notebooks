{
 "cells": [
  {
   "cell_type": "code",
   "execution_count": null,
   "id": "836492b8-ca00-4581-b374-1f5998f2c1a7",
   "metadata": {},
   "outputs": [],
   "source": [
    "%pip install jupyter-rich\n"
   ]
  },
  {
   "cell_type": "code",
   "execution_count": null,
   "id": "2090ec84-9407-4443-8eef-043084a02771",
   "metadata": {},
   "outputs": [],
   "source": [
    "pip install jupyter-rich\n"
   ]
  },
  {
   "cell_type": "code",
   "execution_count": null,
   "id": "1dca6471-2ad2-4170-b2be-c5944a15f8dd",
   "metadata": {},
   "outputs": [],
   "source": [
    "from rich.jupyter import print\n",
    "print(\"meow.[bold magenta]\")"
   ]
  },
  {
   "cell_type": "code",
   "execution_count": null,
   "id": "44d6b629-c4e3-4e61-a66a-e4e56bf55436",
   "metadata": {},
   "outputs": [],
   "source": [
    "from rich.__main__ import make_test_card"
   ]
  },
  {
   "cell_type": "code",
   "execution_count": null,
   "id": "6e264b4a-2a97-4d73-b2b7-247ef933415f",
   "metadata": {},
   "outputs": [],
   "source": [
    "print(make_test_card())"
   ]
  },
  {
   "cell_type": "code",
   "execution_count": null,
   "id": "9baf6cae-fc25-4e18-bdbb-c94f1ca01c41",
   "metadata": {},
   "outputs": [],
   "source": [
    "%ls\n",
    "\n"
   ]
  },
  {
   "cell_type": "code",
   "execution_count": null,
   "id": "58253ca3-508e-4194-864c-9f13d7e5e863",
   "metadata": {},
   "outputs": [],
   "source": [
    "%run /work/view_coco_status.py"
   ]
  },
  {
   "cell_type": "code",
   "execution_count": 1,
   "id": "bce8283e-1303-43a5-8475-a958ea52f5b9",
   "metadata": {},
   "outputs": [],
   "source": [
    "import asyncio\n",
    "import nest_asyncio\n",
    "nest_asyncio.apply()"
   ]
  },
  {
   "cell_type": "code",
   "execution_count": 3,
   "id": "6c55f60c-d61b-49d9-8094-95e3dcdc908e",
   "metadata": {},
   "outputs": [
    {
     "data": {
      "application/vnd.jupyter.widget-view+json": {
       "model_id": "",
       "version_major": 2,
       "version_minor": 0
      },
      "text/plain": [
       "Output()"
      ]
     },
     "metadata": {},
     "output_type": "display_data"
    },
    {
     "data": {
      "text/html": [
       "<pre style=\"white-space:pre;overflow-x:auto;line-height:normal;font-family:Menlo,'DejaVu Sans Mono',consolas,'Courier New',monospace\"></pre>\n"
      ],
      "text/plain": []
     },
     "metadata": {},
     "output_type": "display_data"
    },
    {
     "ename": "KeyboardInterrupt",
     "evalue": "",
     "output_type": "error",
     "traceback": [
      "\u001b[0;31m---------------------------------------------------------------------------\u001b[0m",
      "\u001b[0;31mKeyboardInterrupt\u001b[0m                         Traceback (most recent call last)",
      "File \u001b[0;32m~/work/labs-in-development/view_coco_status.py:102\u001b[0m\n\u001b[1;32m     99\u001b[0m     display_status(server, url, userid)\n\u001b[1;32m    101\u001b[0m \u001b[38;5;28;01mif\u001b[39;00m \u001b[38;5;18m__name__\u001b[39m \u001b[38;5;241m==\u001b[39m \u001b[38;5;124m\"\u001b[39m\u001b[38;5;124m__main__\u001b[39m\u001b[38;5;124m\"\u001b[39m:\n\u001b[0;32m--> 102\u001b[0m     \u001b[43mmain\u001b[49m\u001b[43m(\u001b[49m\u001b[43m)\u001b[49m\n",
      "File \u001b[0;32m~/work/labs-in-development/view_coco_status.py:99\u001b[0m, in \u001b[0;36mmain\u001b[0;34m()\u001b[0m\n\u001b[1;32m     96\u001b[0m url \u001b[38;5;241m=\u001b[39m args\u001b[38;5;241m.\u001b[39murl \u001b[38;5;28;01mif\u001b[39;00m args\u001b[38;5;241m.\u001b[39murl \u001b[38;5;129;01mis\u001b[39;00m \u001b[38;5;129;01mnot\u001b[39;00m \u001b[38;5;28;01mNone\u001b[39;00m \u001b[38;5;28;01melse\u001b[39;00m \u001b[38;5;124m\"\u001b[39m\u001b[38;5;124mhttps://localhost:9443\u001b[39m\u001b[38;5;124m\"\u001b[39m\n\u001b[1;32m     97\u001b[0m userid \u001b[38;5;241m=\u001b[39m args\u001b[38;5;241m.\u001b[39muserid \u001b[38;5;28;01mif\u001b[39;00m args\u001b[38;5;241m.\u001b[39muserid \u001b[38;5;129;01mis\u001b[39;00m \u001b[38;5;129;01mnot\u001b[39;00m \u001b[38;5;28;01mNone\u001b[39;00m \u001b[38;5;28;01melse\u001b[39;00m \u001b[38;5;124m'\u001b[39m\u001b[38;5;124mgarygeeke\u001b[39m\u001b[38;5;124m'\u001b[39m\n\u001b[0;32m---> 99\u001b[0m \u001b[43mdisplay_status\u001b[49m\u001b[43m(\u001b[49m\u001b[43mserver\u001b[49m\u001b[43m,\u001b[49m\u001b[43m \u001b[49m\u001b[43murl\u001b[49m\u001b[43m,\u001b[49m\u001b[43m \u001b[49m\u001b[43muserid\u001b[49m\u001b[43m)\u001b[49m\n",
      "File \u001b[0;32m~/work/labs-in-development/view_coco_status.py:76\u001b[0m, in \u001b[0;36mdisplay_status\u001b[0;34m(server, url, username)\u001b[0m\n\u001b[1;32m     74\u001b[0m     \u001b[38;5;28;01mwith\u001b[39;00m Live(layout, refresh_per_second\u001b[38;5;241m=\u001b[39m\u001b[38;5;241m4\u001b[39m, screen\u001b[38;5;241m=\u001b[39m\u001b[38;5;28;01mTrue\u001b[39;00m) \u001b[38;5;28;01mas\u001b[39;00m live:\n\u001b[1;32m     75\u001b[0m         \u001b[38;5;28;01mwhile\u001b[39;00m \u001b[38;5;28;01mTrue\u001b[39;00m:\n\u001b[0;32m---> 76\u001b[0m             time\u001b[38;5;241m.\u001b[39msleep(\u001b[38;5;241m2\u001b[39m)\n\u001b[1;32m     77\u001b[0m             live\u001b[38;5;241m.\u001b[39mupdate(layout)\n\u001b[1;32m     79\u001b[0m \u001b[38;5;28;01mexcept\u001b[39;00m (InvalidParameterException, PropertyServerException, UserNotAuthorizedException) \u001b[38;5;28;01mas\u001b[39;00m e:\n",
      "\u001b[0;31mKeyboardInterrupt\u001b[0m: "
     ]
    }
   ],
   "source": [
    "%run /home/jovyan/work/labs-in-development/view_coco_status.py"
   ]
  },
  {
   "cell_type": "code",
   "execution_count": null,
   "id": "04b30815-6146-47c4-8919-45513e0a5670",
   "metadata": {},
   "outputs": [],
   "source": []
  }
 ],
 "metadata": {
  "kernelspec": {
   "display_name": "Python 3 (ipykernel)",
   "language": "python",
   "name": "python3"
  },
  "language_info": {
   "codemirror_mode": {
    "name": "ipython",
    "version": 3
   },
   "file_extension": ".py",
   "mimetype": "text/x-python",
   "name": "python",
   "nbconvert_exporter": "python",
   "pygments_lexer": "ipython3",
   "version": "3.11.9"
  }
 },
 "nbformat": 4,
 "nbformat_minor": 5
}
