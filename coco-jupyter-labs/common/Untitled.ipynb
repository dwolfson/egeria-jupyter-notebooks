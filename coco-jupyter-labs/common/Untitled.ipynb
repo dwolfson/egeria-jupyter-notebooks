{
 "cells": [
  {
   "cell_type": "code",
   "execution_count": 5,
   "id": "6b2cb41b-d3c7-414c-9604-f28e45089740",
   "metadata": {},
   "outputs": [
    {
     "name": "stdout",
     "output_type": "stream",
     "text": [
      "Configuring cocoMDSx...\n",
      "\n",
      "\n",
      "Exception: VoidResponse\n",
      "\t\t   Error Message: OMAG-ADMIN-500-001 Method setBasicServerProperties for OMAG server cocoMDSx returned an unexpected exception of org.odpi.openmetadata.frameworks.connectors.ffdc.OCFRuntimeException with message ENCRYPTED-DOC-STORE-400-008 Unable to create secure location for storing encryption key\n",
      "\t\t   Error Code: OMAG-ADMIN-500-001 with http code 500\n",
      "\t\t   Class: org.odpi.openmetadata.adminservices.ffdc.exception.OMAGConfigurationErrorException\n",
      "\t\t   Caller: setBasicServerProperties\n",
      "\t\t   System Action: The function requested failed.\n",
      "\t\t   User Action: This is likely to be either a configuration, operational or logic error. Validate the request. Look at the user action for the embedded exception since this will provide the most specific information.\n",
      "Configuring monitorDev01...\n",
      "\n",
      "\n",
      "Exception: VoidResponse\n",
      "\t\t   Error Message: OMAG-ADMIN-500-001 Method setBasicServerProperties for OMAG server monitorDev01 returned an unexpected exception of org.odpi.openmetadata.frameworks.connectors.ffdc.OCFRuntimeException with message ENCRYPTED-DOC-STORE-400-008 Unable to create secure location for storing encryption key\n",
      "\t\t   Error Code: OMAG-ADMIN-500-001 with http code 500\n",
      "\t\t   Class: org.odpi.openmetadata.adminservices.ffdc.exception.OMAGConfigurationErrorException\n",
      "\t\t   Caller: setBasicServerProperties\n",
      "\t\t   System Action: The function requested failed.\n",
      "\t\t   User Action: This is likely to be either a configuration, operational or logic error. Validate the request. Look at the user action for the embedded exception since this will provide the most specific information.\n",
      "Configuring monitorGov01\n",
      "\n",
      "Done.\n",
      "Activating monitorGov01\n",
      "Activation of monitorGov01 complete\n"
     ]
    }
   ],
   "source": [
    "%run /home/jovyan/work/common/config_coco_development.py"
   ]
  },
  {
   "cell_type": "code",
   "execution_count": 3,
   "id": "c03275ac-b85e-4fd2-a99d-1b1aedc25b13",
   "metadata": {},
   "outputs": [],
   "source": [
    "import asyncio\n",
    "import nest_asyncio"
   ]
  },
  {
   "cell_type": "code",
   "execution_count": 4,
   "id": "ccda0c12-8d67-439c-a055-e93ac8c19f71",
   "metadata": {},
   "outputs": [],
   "source": [
    "nest_asyncio.apply()"
   ]
  },
  {
   "cell_type": "code",
   "execution_count": null,
   "id": "d147984b-bf88-4fbf-9ab2-d4b8cbc063cb",
   "metadata": {},
   "outputs": [],
   "source": []
  }
 ],
 "metadata": {
  "kernelspec": {
   "display_name": "Python 3 (ipykernel)",
   "language": "python",
   "name": "python3"
  },
  "language_info": {
   "codemirror_mode": {
    "name": "ipython",
    "version": 3
   },
   "file_extension": ".py",
   "mimetype": "text/x-python",
   "name": "python",
   "nbconvert_exporter": "python",
   "pygments_lexer": "ipython3",
   "version": "3.11.9"
  }
 },
 "nbformat": 4,
 "nbformat_minor": 5
}
