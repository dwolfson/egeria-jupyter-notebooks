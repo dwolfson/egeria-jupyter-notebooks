{
 "cells": [
  {
   "cell_type": "markdown",
   "metadata": {},
   "source": [
    "![Egeria Logo](https://raw.githubusercontent.com/odpi/egeria/master/assets/img/ODPi_Egeria_Logo_color.png)\n",
    "\n",
    "### Egeria Hands-On Lab\n",
    "# Welcome to the Governance Server Operation Lab\n",
    "\n",
    "## Introduction\n",
    "\n",
    "Egeria is an open source project that provides open standards and implementation libraries to connect tools, catalogs and platforms together so they can share information about data and technology (called metadata).\n",
    "\n",
    "In this hands-on lab you will set up two types of governance server: an [Integration Daemon](https://egeria-project.org/concepts/integration-daemon/) and an [Engine Host](https://egeria-project.org/concepts/engine-host) that will work with a [Metadata Access Store](https://egeria-project.org/concepts/metadata-access-store/) to dynamically catalog metadata.  The aim is to show how these three types of [OMAG Servers](https://egeria-project.org/concepts/omag-server/) work together.\n",
    "\n",
    "The Egeria team use the personas and scenarios from the fictitious company called [Coco Pharmaceuticals](https://egeria-project.org/practices/coco-pharmaceuticals/).\n",
    "As part of the huge business transformation that Coco Pharmaceuticals has embarked on, they\n",
    "have decided to use Egeria to manage their metadata across the enterprise.\n",
    "\n",
    "**Note: this Lab needs Egeria release 3.15 or later to run**\n",
    "\n",
    "\n",
    "## The Scenario\n",
    "\n",
    "[Polly Tasker](https://egeria-project.org/practices/coco-pharmaceuticals/personas/polly-tasker/),\n",
    "the lead of IT development asked [Peter Profile](https://egeria-project.org/practices/coco-pharmaceuticals/personas/peter-profile/) and [Erin Overview](https://egeria-project.org/practices/coco-pharmaceuticals/personas/erin-overview/) from the governance team to give a series of talks and a demos about Egeria to her team, who will be building integration connectors and governance action services to capture and govern their metadata using Egeria.  They are interested in understanding how these connectors run in Egeria so that they can test their work.\n",
    "\n",
    "<figure style=\"margin-left: 7%; display:inline-block;\">  \n",
    "  <img src=\"https://raw.githubusercontent.com/odpi/egeria-docs/main/site/docs/practices/coco-pharmaceuticals/personas/polly-tasker.png\">\n",
    "  <figcaption style=\"margin-left: 7%;\"><strong>Polly Tasker</strong></figcaption>\n",
    "</figure>\n",
    "\n",
    "<figure style=\"margin-left: 7%; display:inline-block;\">  \n",
    "  <img src=\"https://raw.githubusercontent.com/odpi/egeria-docs/main/site/docs/practices/coco-pharmaceuticals/personas/peter-profile.png\">\n",
    "  <figcaption style=\"margin-left: 7%;\"><strong>Peter Profile</strong></figcaption>\n",
    "</figure>\n",
    "\n",
    "<figure style=\"margin-left: 7%; display:inline-block;\">  \n",
    "  <img src=\"https://raw.githubusercontent.com/odpi/egeria-docs/main/site/docs/practices/coco-pharmaceuticals/personas/erin-overview.png\">\n",
    "  <figcaption style=\"margin-left: 7%;\"><strong>Erin Overview</strong></figcaption>\n",
    "</figure>\n",
    "\n",
    "\n",
    "Peter and Erin offer to demonstrate how to set up the runtime environment for these types of connectors and use various operational\n",
    "commands to show their status.\n",
    "\n",
    "They have been asked to set up the demo on the *Development [OMAG Server Platform](https://egeria-project.org/concepts/omag-server-platform/)* so that the development team can run it themselves at a later time.  Peter checks that the Development OMAG Server Platform is running.\n",
    "\n",
    "----"
   ]
  },
  {
   "cell_type": "code",
   "metadata": {},
   "source": [
    "%run ../common/common-functions.ipynb\n",
    "\n",
    "print(\" \")\n",
    "result = checkServerPlatform(devPlatformName, devPlatformURL)\n",
    "print(\" \")\n"
   ],
   "outputs": [],
   "execution_count": null
  },
  {
   "cell_type": "markdown",
   "metadata": {},
   "source": [
    "----\n",
    "\n",
    "If the platform is not running, follow [this link to set up and run the platform](https://egeria-project.org/education/open-metadata-labs/overview/).  Then re-run the previous step to ensure the platform is started.\n",
    "\n",
    "The demo will focus on cataloguing files that are found in for following directory (folder).  It is simulating new data coming into the landing area of a data lake.  The files need to be catalogued to trigger provisioning processes that will move them to an appropriate place in the data lake.\n",
    "\n",
    "-----"
   ]
  },
  {
   "cell_type": "code",
   "metadata": {},
   "source": [
    "\n",
    "landingAreaDirectory = fileSystemRoot + '/simple-demo/landing-area'\n"
   ],
   "outputs": [],
   "execution_count": null
  },
  {
   "cell_type": "markdown",
   "metadata": {},
   "source": [
    "----\n",
    "\n",
    "The data lake needs a metadata catalog.  Peter configures a [Metadata Access Store](https://egeria-project.org/concepts/metadata-access-store/) called *SimpleMetadataCatalog* on the Development OMAG Server Platform to act as the data lake catalog.  The *Metadata Access Store* is a type of server that they are familiar with after watching other demos from Peter and Erin including:\n",
    "\n",
    "* The [Representing metadata](metadata-representations.ipynb) lab shows how different types of data are represented in the [Open Metadata Types](https://egeria-project.org/types/).\n",
    "* The [Simple Cohort Demo](simple-cohort-demo.ipynb) lab shows how an [Open Metadata Repository Cohort](https://egeria-project.org/features/cohort-operation/overview/) works.\n",
    "\n",
    "They do not spend much time on this piece.\n",
    "\n",
    "----"
   ]
  },
  {
   "cell_type": "code",
   "metadata": {},
   "source": [
    "\n",
    "def configureMetadataCatalog(mdrServerName, mdrRepositoryType):\n",
    "    eventBusURLroot   = os.environ.get('eventBusURLroot', 'localhost:9092')\n",
    "    eventBusBody      = {\n",
    "        \"producer\": {\n",
    "             \"bootstrap.servers\": eventBusURLroot\n",
    "         },\n",
    "         \"consumer\": {\n",
    "             \"bootstrap.servers\": eventBusURLroot\n",
    "         }\n",
    "    }\n",
    "    print(\"Configuring \" + mdrServerName + \"...\")\n",
    "    configurePlatformURL(devPlatformURL, adminUserId, mdrServerName, devPlatformURL)\n",
    "    configureMaxPageSize(devPlatformURL, adminUserId, mdrServerName, '600')\n",
    "    clearServerType(devPlatformURL, adminUserId, mdrServerName)\n",
    "    configureOwningOrganization(devPlatformURL, adminUserId, mdrServerName, \"Coco Pharmaceuticals Dev Systems\")\n",
    "    configureUserId(devPlatformURL, adminUserId, mdrServerName, \"simpleMDSnpa\")\n",
    "    configurePassword(devPlatformURL, adminUserId, mdrServerName, \"simpleMDSpassw0rd\")\n",
    "    configureEventBus(devPlatformURL, adminUserId, mdrServerName, eventBusBody)\n",
    "    configureMetadataRepository(devPlatformURL, adminUserId, mdrServerName, mdrRepositoryType)\n",
    "    configureAccessService(devPlatformURL, adminUserId, mdrServerName, 'governance-engine', {})\n",
    "    configureAccessService(devPlatformURL, adminUserId, mdrServerName, 'data-manager', {})\n",
    "    configureAccessService(devPlatformURL, adminUserId, mdrServerName, 'asset-owner', {})\n",
    "    configureAccessService(devPlatformURL, adminUserId, mdrServerName, 'asset-consumer', {})\n",
    "\n",
    "\n",
    "simpleMetadataCatalog = \"SimpleMetadataCatalog\"\n",
    "\n",
    "configureMetadataCatalog(simpleMetadataCatalog, \"in-memory-repository\")\n",
    "\n",
    "print(\"\\nDone.\")\n"
   ],
   "outputs": [],
   "execution_count": null
  },
  {
   "cell_type": "markdown",
   "metadata": {},
   "source": [
    "----\n",
    "\n",
    "The developers know that they need to be able to write and test a variety of connectors.  They are particualr interested in *integration connectors* and *governance action services*\n",
    "\n",
    "## Integration connectors\n",
    "\n",
    "Erin begins with the [integration connectors](https://egeria-project.org/concepts/integration-connector/).  They sit on the edge of the open metadata ecosystem and exchange metadata between third party technologies and the open metadata ecosystem.  In the demo, Erin and Peter are going to show an integration connector called [Data Files Monitor Integration Connector](https://egeria-project.org/connectors/integration/data-files-monitor-integration-connector/) that detects files being added and deleted from a directory and maintains a catalog of the files in the Metadata Access Store.\n",
    "\n",
    "This is the integration connector that is going to monitor the landing area directory.\n",
    "\n",
    "## Connector providers and connector types\n",
    "\n",
    "Every connector has a factory class called the [Connector Provider](/concepts/connector-provider).  This class is also able to return information about the capabilities of the connector in a connector type.  Erin shows the developers the [developer guide](https://egeria-project.org/guides/developer/integration-connectors/overview/) for integration connectors, pointing out the section on [building connector providers](https://egeria-project.org/guides/developer/integration-connectors/overview/#writing-the-connector-provider).  \n",
    "\n",
    "The connector type from the connector provider provides valuable information to anyone configuring the connector into the Egeria runtime.\n",
    "For example, the `recognizedConfigurationProperties` document which configuration properties can be set on the connector's connection object.\n",
    "\n",
    "This is the connector type from the *Data Files Monitor Integration Connector*'s provider:\n",
    "\n",
    "----"
   ]
  },
  {
   "cell_type": "code",
   "metadata": {},
   "source": [
    "dataFilesMonitorProviderClassName = \"org.odpi.openmetadata.adapters.connectors.integration.basicfiles.DataFilesMonitorIntegrationProvider\"\n",
    "\n",
    "getConnectorType(devPlatformName, devPlatformURL, dataFilesMonitorProviderClassName)\n",
    "   "
   ],
   "outputs": [],
   "execution_count": null
  },
  {
   "cell_type": "markdown",
   "metadata": {},
   "source": [
    "----\n",
    "\n",
    "Notice that one of the connector's implemented interfaces is `org.odpi.openmetadata.integrationservices.files.connector.`**FilesIntegratorOMISConnector**.\n",
    "\n",
    "## Integration daemons \n",
    "\n",
    "Integration connectors run in an [Integration Daemon](https://egeria-project.org/concepts/integration-daemon/).  Like the *Metadata Access Store*, the *Integration Daemon* is a type of [OMAG Server](https://egeria-project.org/concepts/omag-server/) that runs in the *OMAG Server Platform*.  In this demo an integration daemon called *SimpleIntegrationDaemon* will run on the Development OMAG Server Platform with the *SimpleMetadataCatalog*.\n",
    "\n",
    "<center>\n",
    "    <img src=\"../images/governance-engine-lab-platform-part.png\">\n",
    "</center>\n",
    "\n",
    "Integration daemons have registered services called Open Metadata Integration Services (OMISs).  An OMIS provides a specialist API called the *context* to an integration connector that makes it easy to work with metadata for a paticular catagory of third party technology.\n",
    "\n",
    "These are the OMISs available on the Development OMAG Server Platform.\n",
    "\n",
    "----"
   ]
  },
  {
   "cell_type": "code",
   "metadata": {},
   "source": [
    "\n",
    "getIntegrationServices(devPlatformName, devPlatformURL)\n"
   ],
   "outputs": [],
   "execution_count": null
  },
  {
   "cell_type": "markdown",
   "metadata": {},
   "source": [
    "----\n",
    "\n",
    "## Configuring an integration connector in Egeria\n",
    "\n",
    "Peter sets up *Data Files Monitor Integration Connector* to monitor a landing area directory.  It is configured to run in *SimpleIntegrationDaemon*.  Because it is working with files, it uses the *Files Integrator OMIS*.  It is confirmed by the connector interface it implemented called:\n",
    "\n",
    "`org.odpi.openmetadata.integrationservices.files.connector.`**FilesIntegratorOMISConnector**.\n",
    "\n",
    "The configuration defines a list of integration connectors that are going to run in the integration daemon.  In this demo, there is only one integration connector so the configuration is quite simple.\n",
    "\n",
    "----"
   ]
  },
  {
   "cell_type": "code",
   "metadata": {},
   "source": [
    "def configureIntegrationDaemon(idServerName, mdrServerName, integrationService, connectorConfigs):\n",
    "    eventBusURLroot   = os.environ.get('eventBusURLroot', 'localhost:9092')\n",
    "    eventBusBody      = {\n",
    "        \"producer\": {\n",
    "             \"bootstrap.servers\": eventBusURLroot\n",
    "         },\n",
    "         \"consumer\": {\n",
    "             \"bootstrap.servers\": eventBusURLroot\n",
    "         }\n",
    "    }\n",
    "    print(\"Configuring \" + idServerName + \"...\")\n",
    "    configurePlatformURL(devPlatformURL, adminUserId, idServerName, devPlatformURL)\n",
    "    configureMaxPageSize(devPlatformURL, adminUserId, idServerName, '600')\n",
    "    clearServerType(devPlatformURL, adminUserId, idServerName)\n",
    "    configureOwningOrganization(devPlatformURL, adminUserId, idServerName, \"Coco Pharmaceuticals Dev Systems\")\n",
    "    configureUserId(devPlatformURL, adminUserId, idServerName, \"simplenpa\")\n",
    "    configurePassword(devPlatformURL, adminUserId, idServerName, \"simplepassw0rd\")\n",
    "    configureEventBus(devPlatformURL, adminUserId, idServerName, eventBusBody)\n",
    "    configureDefaultAuditLog(devPlatformURL, adminUserId, idServerName)\n",
    "    configureIntegrationService(devPlatformURL, adminUserId, idServerName, mdrServerName, devPlatformURL, integrationService, {}, connectorConfigs)\n",
    "\n",
    "\n",
    "simpleIntegrationDaemon = \"SimpleIntegrationDaemon\"\n",
    "\n",
    "DataFilesMonitorConnectorName       = \"LandingAreaFilesMonitor\"\n",
    "\n",
    "DataFilesMonitorConnectorConnection = { \n",
    "                                      \"class\" : \"Connection\",\n",
    "                                      \"connectorType\" : \n",
    "                                      {\n",
    "                                           \"class\" : \"ConnectorType\",\n",
    "                                           \"connectorProviderClassName\" : \"org.odpi.openmetadata.adapters.connectors.integration.basicfiles.DataFilesMonitorIntegrationProvider\"           \n",
    "                                      },\n",
    "                                      \"endpoint\" :\n",
    "                                      {\n",
    "                                           \"class\" : \"Endpoint\",\n",
    "                                           \"address\" : landingAreaDirectory\n",
    "                                      }\n",
    "                                }\n",
    "\n",
    "connectorConfigs = [ \n",
    "    {\n",
    "        \"class\"                       : \"IntegrationConnectorConfig\",\n",
    "        \"connectorName\"               : DataFilesMonitorConnectorName,\n",
    "        \"connectorUserId\"             : \"simplenpa\",\n",
    "        \"connection\"                  : DataFilesMonitorConnectorConnection,\n",
    "        \"metadataSourceQualifiedName\" : \"SimpleLandingArea\",\n",
    "        \"refreshTimeInterval\"         : 10,\n",
    "        \"usesBlockingCalls\"           : \"false\"\n",
    "    }]\n",
    "\n",
    "\n",
    "\n",
    "configureIntegrationDaemon(simpleIntegrationDaemon, simpleMetadataCatalog, \"files-integrator\", connectorConfigs)\n",
    "\n",
    "print (\"\\nDone.\")\n",
    "\n"
   ],
   "outputs": [],
   "execution_count": null
  },
  {
   "cell_type": "markdown",
   "metadata": {},
   "source": [
    "----\n",
    "\n",
    "Peter then starts both servers on the platform.\n",
    "\n",
    "When *SimpleIntegrationDaemon* starts, it connects to *SimpleMetadataCatalog* and initalizes the *Data Files Monitor Integration Connector*.\n",
    "\n",
    "<center>\n",
    "    <img src=\"../images/governance-engine-lab-servers-part.png\">\n",
    "</center>\n",
    "\n",
    "----"
   ]
  },
  {
   "cell_type": "code",
   "metadata": {},
   "source": [
    "activatePlatform(devPlatformName, devPlatformURL, [simpleMetadataCatalog, simpleIntegrationDaemon])\n",
    "\n",
    "print(\"\\nDone.\")\n"
   ],
   "outputs": [],
   "execution_count": null
  },
  {
   "cell_type": "markdown",
   "metadata": {},
   "source": [
    "----\n",
    "\n",
    "Peter checks that the servers are running on the platform ...\n",
    "\n",
    "----"
   ]
  },
  {
   "cell_type": "code",
   "metadata": {},
   "source": [
    "queryActiveServers(devPlatformName, devPlatformURL)"
   ],
   "outputs": [],
   "execution_count": null
  },
  {
   "cell_type": "markdown",
   "metadata": {},
   "source": [
    "----\n",
    "\n",
    "He checks to see if any files have been catalogued:\n",
    "\n",
    "----"
   ]
  },
  {
   "cell_type": "code",
   "metadata": {},
   "source": [
    "\n",
    "assetOwnerPrintAssets(simpleMetadataCatalog, devPlatformName, devPlatformURL, petersUserId, \".*landing.*\")\n"
   ],
   "outputs": [],
   "execution_count": null
  },
  {
   "cell_type": "markdown",
   "metadata": {},
   "source": [
    "----\n",
    "\n",
    "Peter then queries the status of *SimpleIntegrationDaemon* to be sure the integration connector is started.\n",
    "\n",
    "----"
   ]
  },
  {
   "cell_type": "code",
   "metadata": {},
   "source": [
    "\n",
    "getIntegrationDaemonStatus(simpleIntegrationDaemon, devPlatformName, devPlatformURL, petersUserId)\n"
   ],
   "outputs": [],
   "execution_count": null
  },
  {
   "cell_type": "markdown",
   "metadata": {},
   "source": [
    "----\n",
    "\n",
    "*Data Files Monitor Integration Connector* has started but it is in `FAILED` status because the landing area directory it is supposed monitor does not exist.\n",
    "\n",
    "This is expected ... the plan is to use a [Governance Action Service](https://egeria-project.org/concepts/governance-action-service/) called\n",
    "[Move/Copy File Governance Action Service](https://egeria-project.org/connectors/governance-action/move-copy-file-provisioning-governance-action-service/)\n",
    "to create the directory by provisioning files into it.  The files will come from the sample data in Egeria's install image:\n",
    "\n",
    "----"
   ]
  },
  {
   "cell_type": "code",
   "metadata": {},
   "source": [
    "\n",
    "filesSourceFolder = egeriaSampleDataRoot + '/sample-data/oak-dene-drop-foot-weekly-measurements'\n"
   ],
   "outputs": [],
   "execution_count": null
  },
  {
   "cell_type": "markdown",
   "metadata": {},
   "source": [
    "----\n",
    "\n",
    "Governance action services are also connectors so *Move/Copy File Governance Action Service* has a connector provider\n",
    "and it is possible to query its connector type.\n",
    "\n",
    "----"
   ]
  },
  {
   "cell_type": "code",
   "metadata": {},
   "source": [
    "\n",
    "moveCopyFileProviderClassName = \"org.odpi.openmetadata.adapters.connectors.governanceactions.provisioning.MoveCopyFileGovernanceActionProvider\"\n",
    "\n",
    "getConnectorType(devPlatformName, devPlatformURL, moveCopyFileProviderClassName)\n"
   ],
   "outputs": [],
   "execution_count": null
  },
  {
   "cell_type": "markdown",
   "metadata": {},
   "source": [
    "----\n",
    "\n",
    "Notice that one of the connector's implemented interfaces is `org.odpi.openmetadata.frameworks.governanceaction.`**GovernanceActionService**.\n",
    "\n",
    "\n",
    "Governance action services are often more configurable and so you see a longer list of recognized configuration properties.  You can look up the meaning of these properties in the [connector catalog](https://egeria-project.org/connectors/governance-action/move-copy-file-provisioning-governance-action-service/).\n",
    "\n",
    "\n",
    "## Configuring governance action services in Egeria\n",
    "\n",
    "Governance action services run in [Governance Action Engines](https://egeria-project.org/concepts/governance-action-engine/).  Governance action engines are a type of [governance engine](https://egeria-project.org/concepts/governance-engine/) and are hosted in [Engine Host](https://egeria-project.org/concepts/engine-host) OMAG Servers.\n",
    "\n",
    "The engine host has registered services called [Open Metadata Engine Services (OMESs)](https://egeria-project.org/services/omes/).  Each OMES runs a different type of governance engine.\n",
    "\n",
    "This is the full list of the OMESs available on the Development OMAG Server Platform.  \n",
    "\n",
    "----"
   ]
  },
  {
   "cell_type": "code",
   "metadata": {},
   "source": [
    "\n",
    "getEngineServices(devPlatformName, devPlatformURL)\n"
   ],
   "outputs": [],
   "execution_count": null
  },
  {
   "cell_type": "markdown",
   "metadata": {},
   "source": [
    "----\n",
    "\n",
    "Since *Move/Copy File Governance Action Service* is a governance action service, it runs under the under the [Governance Action OMES](https://egeria-project.org/services/omes/governance-action/overview).\n",
    "\n",
    "Peter configures an engine host called *SimpleEngineHost* that is running a governance action engine called *SimpleGovernanceEngine*.  \n",
    "\n",
    "*SimpleEngineHost* runs on the Development OMAG Server Platform with *SimpleMetadataCatalog* and *SimpleIntegrationDaemon*.\n",
    "\n",
    "----"
   ]
  },
  {
   "cell_type": "code",
   "metadata": {},
   "source": [
    "\n",
    "def configureSimpleEngineHost(engineServerName, mdrServerName, engineService, engineConfigs):\n",
    "    eventBusURLroot   = os.environ.get('eventBusURLroot', 'localhost:9092')\n",
    "    eventBusBody      = {\n",
    "        \"producer\": {\n",
    "             \"bootstrap.servers\": eventBusURLroot\n",
    "         },\n",
    "         \"consumer\": {\n",
    "             \"bootstrap.servers\": eventBusURLroot\n",
    "         }\n",
    "    }\n",
    "    print(\"Configuring \" + engineServerName + \"...\")\n",
    "    configurePlatformURL(devPlatformURL, adminUserId, engineServerName, devPlatformURL)\n",
    "    configureMaxPageSize(devPlatformURL, adminUserId, engineServerName, '600')\n",
    "    clearServerType(devPlatformURL, adminUserId, engineServerName)\n",
    "    configureOwningOrganization(devPlatformURL, adminUserId, engineServerName, \"Coco Pharmaceuticals Dev Systems\")\n",
    "    configureUserId(devPlatformURL, adminUserId, engineServerName, \"simplenpa\")\n",
    "    configurePassword(devPlatformURL, adminUserId, engineServerName, \"simplepassw0rd\")\n",
    "    configureEventBus(devPlatformURL, adminUserId, engineServerName, eventBusBody)\n",
    "    configureDefaultAuditLog(devPlatformURL, adminUserId, engineServerName)\n",
    "    configureEngineDefinitionServices(devPlatformURL, adminUserId, engineServerName, mdrServerName, devPlatformURL)\n",
    "    configureGovernanceEngineService(devPlatformURL, adminUserId, engineServerName, mdrServerName, devPlatformURL, engineService, engineConfigs)\n",
    "\n",
    "\n",
    "simpleEngineHost = \"SimpleEngineHost\"\n",
    "simpleGovernanceEngine = \"SimpleGovernanceEngine\"\n",
    "\n",
    "governanceActionEngines = [ \n",
    "    {\n",
    "        \"class\"               : \"EngineConfig\",\n",
    "        \"engineQualifiedName\" : simpleGovernanceEngine,\n",
    "        \"engineUserId\"        : \"simplenpa\"\n",
    "    }]\n",
    "\n",
    "configureSimpleEngineHost(simpleEngineHost, simpleMetadataCatalog, \"governance-action\", governanceActionEngines)\n",
    "\n",
    "print (\"\\nDone.\")\n",
    "\n"
   ],
   "outputs": [],
   "execution_count": null
  },
  {
   "cell_type": "markdown",
   "metadata": {},
   "source": [
    "----\n",
    "\n",
    "Peter then starts up *SimpleEngineHost*.  It connects to *SimpleMetadataCatalog* and initializes the *SimpleGovernanceEngine*.\n",
    "\n",
    "<center>\n",
    "    <img src=\"../images/governance-engine-lab-servers-part-2.png\">\n",
    "</center>\n",
    "\n",
    "----"
   ]
  },
  {
   "cell_type": "code",
   "metadata": {},
   "source": [
    "activatePlatform(devPlatformName, devPlatformURL, [simpleEngineHost])\n",
    "\n",
    "print(\"\\nDone.\")\n"
   ],
   "outputs": [],
   "execution_count": null
  },
  {
   "cell_type": "markdown",
   "metadata": {},
   "source": [
    "----\n",
    "\n",
    "There are now three servers running on the Development OMAG Server Platform: *SimpleEngineHost*, *SimpleMetadataCatalog* and *SimpleIntegrationDaemon*.\n",
    "\n",
    "<center>\n",
    "    <img src=\"../images/governance-engine-lab-platform.png\">\n",
    "</center>\n",
    "\n",
    "\n",
    "----"
   ]
  },
  {
   "cell_type": "code",
   "metadata": {},
   "source": [
    "queryActiveServers(devPlatformName, devPlatformURL)"
   ],
   "outputs": [],
   "execution_count": null
  },
  {
   "cell_type": "markdown",
   "metadata": {},
   "source": [
    "----\n",
    "\n",
    "Peter queries the status of *SimpleEngineHost* to check that *SimpleGovernanceEngine* has started.\n",
    "\n",
    "----"
   ]
  },
  {
   "cell_type": "code",
   "metadata": {},
   "source": [
    "\n",
    "printGovernanceEngineStatuses(simpleEngineHost, devPlatformName, devPlatformURL, petersUserId)\n"
   ],
   "outputs": [],
   "execution_count": null
  },
  {
   "cell_type": "markdown",
   "metadata": {},
   "source": [
    "----\n",
    "\n",
    "*SimpleGovernanceEngine* has started, but it is status is `ASSIGNED` which means it is waiting for information from *SimpleMetadataCatalog*.  \n",
    "\n",
    "The definition of which governance action services are supported by a governance action engine is managed as an open metadata definition rather than hard-coded in the server configuration.  This is to allow the definition of the governance engine to be shared between engine hosts.  New governance action services can also be introduced without needing to restart the engine host.  \n",
    "\n",
    "At this point in time, *SimpleEngineHost* has been unable to retrieve the definition of *SimpleGovernanceEngine* from *SimpleMetadataCatalog*.\n",
    "\n",
    "Governance engine definitions are typically delivered through an [Open Metadata Archive](https://egeria-project.org/concepts/governance-engine-pack/) because they include multiple related elements and the archive makes it easy to maintain and distribute.  Governance engine definitions can also be added dynamically through *SimpleMetadataCatalog*'s REST API.  Erin said they would use the REST API because it is a useful way to understand how the engine host works.\n",
    "\n",
    "The plan is to gradually build up the definition for *SimpleGovernanceEngine* in *SimpleMetadataCatalog* until the\n",
    "*SimpleGovernanceEngine*'s status is `RUNNING`.  The first step is to add the root governance engine definition\n",
    "to *SimpleMetadataCatalog*.  \n",
    "\n",
    "----"
   ]
  },
  {
   "cell_type": "code",
   "metadata": {},
   "source": [
    "governanceEngineDisplayName = \"Simple Governance Engine\"\n",
    "governanceEngineDescription = \"Supports the simple governance servers lab.\"\n",
    "\n",
    "governanceEngineGUID = createGovernanceEngine(simpleMetadataCatalog,\n",
    "                                              devPlatformName,\n",
    "                                              devPlatformURL,\n",
    "                                              petersUserId,\n",
    "                                              \"GovernanceActionEngine\",\n",
    "                                              simpleGovernanceEngine,\n",
    "                                              governanceEngineDisplayName,\n",
    "                                              governanceEngineDescription)\n",
    "\n",
    "if (governanceEngineGUID):\n",
    "    print (\" \")\n",
    "    print (\"The guid for the \" + simpleGovernanceEngine + \" governance engine is: \" + governanceEngineGUID)\n",
    "    print (\" \")\n",
    "\n",
    "print (\"Done. \")    "
   ],
   "outputs": [],
   "execution_count": null
  },
  {
   "cell_type": "markdown",
   "metadata": {},
   "source": [
    "----\n",
    "\n",
    "Now the governance engine is defined, its definition is sent to *SimpleEngineHost* in an event\n",
    "and the engine's status moves to `CONFIGURING`.\n",
    "Notice more descriptive information is returned with the status.  This is coming from the new governance engine definition.\n",
    "\n",
    "----"
   ]
  },
  {
   "cell_type": "code",
   "metadata": {},
   "source": [
    "\n",
    "waitForConfiguringGovernanceEngine(simpleEngineHost, devPlatformName, devPlatformURL, petersUserId, simpleGovernanceEngine)\n",
    "\n",
    "printGovernanceEngineStatuses(simpleEngineHost, devPlatformName, devPlatformURL, petersUserId)\n"
   ],
   "outputs": [],
   "execution_count": null
  },
  {
   "cell_type": "markdown",
   "metadata": {},
   "source": [
    "----\n",
    "\n",
    "Now we add the description of *Move/Copy File GovernanceAction Service* to *SimpleMetadataCatalog*.  There are two parts to\n",
    "registering a governance action service.  The first is to create a GovernanceService definition that identifies\n",
    "the implementation of the governance action service and the second part registers this\n",
    "GovernanceService definition with the GovernanceEngine definition.\n",
    "This registration maps one or more of the governance engine's request types, along with the default request parameters to\n",
    "the GovernanceService definition.  This mapping is used to translate a request to the governance engine into an\n",
    "invocation of a governance action service.\n",
    "\n",
    "This picture shows the structure of the resulting definitions for a governance engine.  A governance action service may be\n",
    "registered with multiple governance engines, using the same or different request types. \n",
    "It can also be registered multiple time with different request types.\n",
    "\n",
    "![logical governance engine definition](../images/governance-action-request-type.png)\n",
    "> Logical structure of the governance services within a governance engine\n",
    "\n",
    "This next code issues the calls to create a definition of the governance action service and add it to the definition for *SimpleGovernanceEngine*.\n",
    "\n",
    "----"
   ]
  },
  {
   "cell_type": "code",
   "metadata": {},
   "source": [
    "\n",
    "ftpGovernanceServiceName = \"ftp-governance-action-service\"\n",
    "ftpGovernanceServiceDisplayName = \"FTP Governance Action Service\"\n",
    "ftpGovernanceServiceDescription = \"Simulates FTP from an external party.\"\n",
    "ftpGovernanceServiceProviderClassName = moveCopyFileProviderClassName\n",
    "ftpGovernanceServiceConfigurationProperties = {\n",
    "        \"noLineage\" : \"\"\n",
    "    }\n",
    "ftpGovernanceServiceRequestType = \"copy-file\"\n",
    "\n",
    "\n",
    "\n",
    "\n",
    "governanceServiceGUID = createGovernanceService(simpleMetadataCatalog,\n",
    "                                                devPlatformName,\n",
    "                                                devPlatformURL,\n",
    "                                                erinsUserId,\n",
    "                                                \"GovernanceActionService\",\n",
    "                                                ftpGovernanceServiceName,\n",
    "                                                ftpGovernanceServiceDisplayName,\n",
    "                                                ftpGovernanceServiceDescription,\n",
    "                                                ftpGovernanceServiceProviderClassName,\n",
    "                                                ftpGovernanceServiceConfigurationProperties)\n",
    "\n",
    "if (governanceServiceGUID):\n",
    "    print (\" \")\n",
    "    print (\"The guid for the \" + ftpGovernanceServiceName + \" governance service is: \" + governanceServiceGUID)\n",
    "    registerGovernanceServiceWithEngine(simpleMetadataCatalog,\n",
    "                                        devPlatformName,\n",
    "                                        devPlatformURL,\n",
    "                                        petersUserId,\n",
    "                                        governanceEngineGUID,\n",
    "                                        governanceServiceGUID,\n",
    "                                        ftpGovernanceServiceRequestType,\n",
    "                                        ftpGovernanceServiceRequestType)\n",
    "    print (\"Service registered as: \" + ftpGovernanceServiceRequestType)\n",
    "    print (\" \")\n",
    "    "
   ],
   "outputs": [],
   "execution_count": null
  },
  {
   "cell_type": "markdown",
   "metadata": {},
   "source": [
    "----\n",
    "\n",
    "*Move/Copy File Governance Action Service* is defined in *SimpleGovernanceEngine* and it is ready to be called.\n",
    "\n",
    "<center>\n",
    "    <img src=\"../images/governance-engine-lab-servers.png\">\n",
    "</center>\n",
    "\n",
    "When at least one governance service is registered with the governance engine, the status of the governance engine in\n",
    "`governDL01` moves to `RUNNING` and it is possible to see the list of supported **request types** for the governance engine. \n",
    "\n",
    "----"
   ]
  },
  {
   "cell_type": "code",
   "metadata": {},
   "source": [
    "\n",
    "waitForRunningGovernanceEngine(simpleEngineHost, devPlatformName, devPlatformURL, petersUserId, simpleGovernanceEngine)\n",
    "\n",
    "printGovernanceEngineStatuses(simpleEngineHost, devPlatformName, devPlatformURL, petersUserId)\n"
   ],
   "outputs": [],
   "execution_count": null
  },
  {
   "cell_type": "markdown",
   "metadata": {},
   "source": [
    "----\n",
    "\n",
    "Any defined governance action service can be called directly through the Governance Engine OMAS,\n",
    "which in this lab is running in *SimpleMetadataCatalog*.  This call results in an event being sent to all\n",
    "engine hosts running *SimpleGovernanceEngine*.  The first one that claims it gets to run it.  In this lab\n",
    "there is only one engine host and so the request will run on *SimpleEngineHost*.\n",
    "\n",
    "This governance action does not take long to run so you should soon see its status as completed.\n",
    "\n",
    "----"
   ]
  },
  {
   "cell_type": "code",
   "metadata": {},
   "source": [
    "\n",
    "def addFileToLandingArea(sourceFolder, destinationFolder, weekNumber, qualifiedName):\n",
    "    sourceFileName = sourceFolder + \"/\" + \"week\" + weekNumber + \".csv\"\n",
    "    requestParameters = {\n",
    "        \"sourceFile\" : sourceFileName,\n",
    "        \"destinationFolder\" : destinationFolder\n",
    "    }\n",
    "    governanceActionGUID = None\n",
    "    governanceActionGUID = initiateGovernanceAction(simpleMetadataCatalog,\n",
    "                                                    devPlatformName,\n",
    "                                                    devPlatformURL,\n",
    "                                                    erinsUserId,\n",
    "                                                    simpleGovernanceEngine,\n",
    "                                                    qualifiedName,\n",
    "                                                    ftpGovernanceServiceRequestType,\n",
    "                                                    requestParameters,\n",
    "                                                    \"Governance Services Lab\")\n",
    "    waitForRunningGovernanceAction(simpleMetadataCatalog, devPlatformName, devPlatformURL, erinsUserId, governanceActionGUID)\n",
    "    printGovernanceAction(simpleMetadataCatalog, devPlatformName, devPlatformURL, erinsUserId, governanceActionGUID)\n",
    "\n",
    "    \n",
    "addFileToLandingArea(filesSourceFolder, landingAreaDirectory, \"1\", \"FTP Oak Dene Week 1\")"
   ],
   "outputs": [],
   "execution_count": null
  },
  {
   "cell_type": "markdown",
   "metadata": {},
   "source": [
    "----\n",
    "We now have the ability to provision new files into the landing area.\n",
    "\n",
    "Restarting the integration connector in *SimpleIntegrationDaemon* will cause it to\n",
    "test again to see if the directory it is monitoring exists.\n",
    "\n",
    "----"
   ]
  },
  {
   "cell_type": "code",
   "metadata": {},
   "source": [
    "\n",
    "restartIntegrationConnector(simpleIntegrationDaemon, devPlatformName, devPlatformURL, petersUserId, DataFilesMonitorConnectorName)\n"
   ],
   "outputs": [],
   "execution_count": null
  },
  {
   "cell_type": "markdown",
   "metadata": {},
   "source": [
    "----\n",
    "\n",
    "If we check the status of the integration connectors again, you can see this connector is now running.\n",
    "\n",
    "----"
   ]
  },
  {
   "cell_type": "code",
   "metadata": {},
   "source": [
    "\n",
    "getIntegrationDaemonStatus(simpleIntegrationDaemon, devPlatformName, devPlatformURL, petersUserId)\n"
   ],
   "outputs": [],
   "execution_count": null
  },
  {
   "cell_type": "markdown",
   "metadata": {},
   "source": [
    "----\n",
    "\n",
    "The connector will begin cataloguing any files placed in the directory.  We should be able to see the `week1.csv` file in the catalog along with catalog entries for each of the nested directories it sits in. If no assets are shown wait a short while and run the cell again and they will appear.\n",
    "\n",
    "----"
   ]
  },
  {
   "cell_type": "code",
   "metadata": {},
   "source": [
    "\n",
    "assetOwnerPrintAssets(simpleMetadataCatalog, devPlatformName, devPlatformURL, petersUserId, \".*landing.*\")\n"
   ],
   "outputs": [],
   "execution_count": null
  },
  {
   "cell_type": "markdown",
   "metadata": {},
   "source": [
    "----\n",
    "The action of the integration connector has been to catalog the new file and the folders above it.\n",
    "The catalog definition is minimal, consisting of just what can be gleaned from the file system.\n",
    "\n",
    "It is possible to provide the integration connector with a template metadata element to copy when it\n",
    "is cataloguing files.   This template can include classifications such as zones, origin, confidentiality and attachments such as\n",
    "connections, schemas and lineage mappings. (There is more information on templates in the\n",
    "[Egeria website](https://egeria-project.org/features/templated-cataloguing/overview/)).\n",
    "\n",
    "Templates are used to set up values for the assets created by the integration connector that are always the same.\n",
    "In this example, all of the files that this connector encounters are from the same source so we can use a template to set up the\n",
    "file's origin and the connection information needed to access the file.\n",
    "\n",
    "Including this type of detail in the asset means that no-one has to remember to add governancem etadata to the new assets once they are catalogued.\n",
    "Other values that are useful to set up in a template are any licenses for the file, schema information, zones, known lineage to this\n",
    "directory, plus other classifications.  Information about the types of information that can be attached to an\n",
    "asset are available on the [Egeria website](https://egeria-project.org/patterns/metadata-manager/overview/).\n",
    "\n",
    "## Working with templates\n",
    "\n",
    "If you know the class name of an integration connector's provider, it is possible to check if the connector is of the right type for an integration service.  This function also returns full details of the connector type, which often includes descriptive information as well as the configuration properties that it supports.\n",
    "\n",
    "The command below request that the Files Integrator OMIS service validate and return information about the configured connector.  It includes the connector type that was returned by the platform plus mor information that is available for an integration connector.\n",
    "\n",
    "----"
   ]
  },
  {
   "cell_type": "code",
   "metadata": {},
   "source": [
    "\n",
    "print(\"Data Files Monitor Integration Connector Report:\")\n",
    "\n",
    "validateIntegrationConnector(simpleIntegrationDaemon, devPlatformName, devPlatformURL, \"files-integrator\", petersUserId, dataFilesMonitorProviderClassName)\n"
   ],
   "outputs": [],
   "execution_count": null
  },
  {
   "cell_type": "markdown",
   "metadata": {},
   "source": [
    "----\n",
    "This connector supports the `templateQualifiedName` and the `allowCatalogDelete` configuration properties.  If you are curious\n",
    "about their meaning, review the definitions in the [connector catalog](https://egeria-project.org/connectors/integration/data-files-monitor-integration-connector/)\n",
    "\n",
    "We are going to set the `templateQualifiedName` with the qualified name of an asset that has the origin set up for the each of the appropriate originating hospitals and membership of the default governance zone of \"quarantine\".\n",
    "This zone means that the asset is still being set up and it is not visible to the data lake users.\n",
    "\n",
    "The commands below create the template asset for the landing area. \n",
    "\n",
    "----"
   ]
  },
  {
   "cell_type": "code",
   "metadata": {},
   "source": [
    "newAssetZone    = \"quarantine\"\n",
    "\n",
    "t1AssetName     = \"Landing Area Template\"\n",
    "t1QualifiedName = \"template:simple-demo\"\n",
    "t1DisplayName   = \"Simple Demo Template Asset\"\n",
    "t1Description   = \"Template asset for Landing Area.\"\n",
    "t1Contact       = \"Simple Contact Person\"\n",
    "t1Dept          = \"Simple Research Centre\"\n",
    "t1Org           = \"Simple Hospital\"\n",
    "\n",
    "template1guids = assetOwnerCreateCSVAsset(simpleMetadataCatalog, devPlatformName, devPlatformURL, petersUserId, t1DisplayName, t1Description, t1QualifiedName)\n",
    "template1guid = getLastGUID(template1guids)\n",
    "addOrigin(simpleMetadataCatalog, devPlatformName, devPlatformURL, petersUserId, t1AssetName, template1guid, t1Contact, t1Dept, t1Org)\n",
    "addZones(simpleMetadataCatalog, devPlatformName, devPlatformURL, petersUserId, t1AssetName, template1guid, [newAssetZone])\n",
    "\n",
    "\n",
    "print (\"\\n\\nNewTemplate Assets:\")\n",
    "assetOwnerPrintAssets(simpleMetadataCatalog, devPlatformName, devPlatformURL, petersUserId, \".*Template.*\")"
   ],
   "outputs": [],
   "execution_count": null
  },
  {
   "cell_type": "markdown",
   "metadata": {},
   "source": [
    "----\n",
    "\n",
    "The next commands reconfigure the integration connector that is monitoring for new files in the landing area to use the template ...\n",
    "\n",
    "---"
   ]
  },
  {
   "cell_type": "code",
   "metadata": {},
   "source": [
    "t1ConfigurationProperties = {\n",
    "    \"templateQualifiedName\" : t1QualifiedName\n",
    "}\n",
    "\n",
    "\n",
    "updateConnectorConfigurationProperties(simpleIntegrationDaemon, devPlatformName, devPlatformURL, petersUserId, DataFilesMonitorConnectorName, t1ConfigurationProperties)\n",
    "getIntegrationConnectorConfigProperties(simpleIntegrationDaemon, devPlatformName, devPlatformURL, petersUserId, DataFilesMonitorConnectorName)"
   ],
   "outputs": [],
   "execution_count": null
  },
  {
   "cell_type": "code",
   "metadata": {},
   "source": [
    "assetOwnerPrintAssets(simpleMetadataCatalog, devPlatformName, devPlatformURL, petersUserId, \".*landing.*\")"
   ],
   "outputs": [],
   "execution_count": null
  },
  {
   "cell_type": "markdown",
   "metadata": {},
   "source": [
    "----\n",
    "\n",
    "Now lets add the file for week 2 into the landing area.\n",
    "\n",
    "----"
   ]
  },
  {
   "cell_type": "code",
   "metadata": {},
   "source": [
    "\n",
    "addFileToLandingArea(filesSourceFolder, landingAreaDirectory, \"2\", \"FTP Oak Dene Week 2\")\n",
    " "
   ],
   "outputs": [],
   "execution_count": null
  },
  {
   "cell_type": "markdown",
   "metadata": {},
   "source": [
    "----\n",
    "\n",
    "The newly catalogued file will show that the origin and zones are set up.\n",
    "\n",
    "----"
   ]
  },
  {
   "cell_type": "code",
   "metadata": {},
   "source": [
    "\n",
    "assetOwnerPrintAssets(simpleMetadataCatalog, devPlatformName, devPlatformURL, petersUserId, \".*landing-.*\")\n"
   ],
   "outputs": [],
   "execution_count": null
  },
  {
   "cell_type": "markdown",
   "metadata": {},
   "source": [
    "----\n",
    "\n",
    "## Deleting files\n",
    "\n",
    "The finale of this lab is to show that the integration connector must also remove metadata for resources (files) that no longer exist.\n",
    "\n",
    "The code below adds another variations of the *Move/Copy File Governance Action Service* that will delete a file.\n",
    "\n",
    "----"
   ]
  },
  {
   "cell_type": "code",
   "metadata": {},
   "source": [
    "dlGovernanceServiceName = \"delete-files-governance-action-service\"\n",
    "dlGovernanceServiceDisplayName = \"File Delete Governance Action Service\"\n",
    "dlGovernanceServiceDescription = \"Removes weekly measurement files from the landing area.\"\n",
    "dlGovernanceServiceProviderClassName = moveCopyFileProviderClassName\n",
    "dlGovernanceServiceConfigurationProperties = {\n",
    "        \"noLineage\" : \"\"\n",
    "    }\n",
    "dlGovernanceServiceRequestType = \"delete-file\"\n",
    "\n",
    "governanceServiceGUID = createGovernanceService(simpleMetadataCatalog,\n",
    "                                                devPlatformName,\n",
    "                                                devPlatformURL,\n",
    "                                                erinsUserId,\n",
    "                                                \"GovernanceActionService\",\n",
    "                                                dlGovernanceServiceName,\n",
    "                                                dlGovernanceServiceDisplayName,\n",
    "                                                dlGovernanceServiceDescription,\n",
    "                                                dlGovernanceServiceProviderClassName,\n",
    "                                                dlGovernanceServiceConfigurationProperties)\n",
    "\n",
    "if (governanceServiceGUID):\n",
    "    print (\" \")\n",
    "    print (\"The guid for the \" + dlGovernanceServiceName + \" governance service is: \" + governanceServiceGUID)\n",
    "    registerGovernanceServiceWithEngine(simpleMetadataCatalog,\n",
    "                                        devPlatformName,\n",
    "                                        devPlatformURL,\n",
    "                                        petersUserId,\n",
    "                                        governanceEngineGUID,\n",
    "                                        governanceServiceGUID,\n",
    "                                        dlGovernanceServiceRequestType,\n",
    "                                        dlGovernanceServiceRequestType)\n",
    "    print (\"Service registered as: \" + dlGovernanceServiceRequestType)\n",
    "    print (\" \")"
   ],
   "outputs": [],
   "execution_count": null
  },
  {
   "cell_type": "markdown",
   "metadata": {},
   "source": [
    "----\n",
    "\n",
    "This is the resulting status of *SimpleGovernanceEngine*.  Notice that is now supports request types of **copy-file** and **delete-file**.\n",
    "\n",
    "----"
   ]
  },
  {
   "cell_type": "code",
   "metadata": {},
   "source": [
    "\n",
    "printGovernanceEngineStatuses(simpleEngineHost, devPlatformName, devPlatformURL, petersUserId)\n"
   ],
   "outputs": [],
   "execution_count": null
  },
  {
   "cell_type": "markdown",
   "metadata": {},
   "source": [
    "----\n",
    "\n",
    "The call below removes the first file added to the landing area.\n",
    "\n",
    "----"
   ]
  },
  {
   "cell_type": "code",
   "metadata": {},
   "source": [
    "def removeFileFromLandingArea(sourceFolder, weekNumber, qualifiedName):\n",
    "    sourceFileName = sourceFolder + \"/\" + \"week\" + weekNumber + \".csv\"\n",
    "    requestParameters = {\n",
    "        \"sourceFile\" : sourceFileName\n",
    "    }\n",
    "    governanceActionGUID = None\n",
    "    governanceActionGUID = initiateGovernanceAction(simpleMetadataCatalog,\n",
    "                                                    devPlatformName,\n",
    "                                                    devPlatformURL,\n",
    "                                                    erinsUserId,\n",
    "                                                    simpleGovernanceEngine,\n",
    "                                                    qualifiedName,\n",
    "                                                    dlGovernanceServiceRequestType,\n",
    "                                                    requestParameters,\n",
    "                                                    \"Governance Services Lab\")\n",
    "    waitForRunningGovernanceAction(simpleMetadataCatalog, devPlatformName, devPlatformURL, erinsUserId, governanceActionGUID)\n",
    "    printGovernanceAction(simpleMetadataCatalog, devPlatformName, devPlatformURL, erinsUserId, governanceActionGUID)\n",
    "\n",
    "\n",
    "\n",
    "removeFileFromLandingArea(landingAreaDirectory, \"1\", \"Remove Oak Dene Week 1\")\n"
   ],
   "outputs": [],
   "execution_count": null
  },
  {
   "cell_type": "markdown",
   "metadata": {},
   "source": [
    "----\n",
    "\n",
    "Erin queries the catalogued files to show that week 1 has been deleted.\n",
    "\n",
    "----"
   ]
  },
  {
   "cell_type": "code",
   "metadata": {},
   "source": [
    "assetOwnerPrintAssets(simpleMetadataCatalog, devPlatformName, devPlatformURL, erinsUserId, \".*landing-.*\")"
   ],
   "outputs": [],
   "execution_count": null
  },
  {
   "cell_type": "markdown",
   "metadata": {},
   "source": [
    "----\n",
    "\n",
    "Finally, Peter displays the governance actions that have run in *SimpleEngineHost*.  The request is to *SimpleMetadataCatalog* because, in addition to maintaining and distributing the governance engine definitions, the *SimpleMetadataCatalog* maintains the status and outcomes of each governance action.\n",
    "\n",
    "----"
   ]
  },
  {
   "cell_type": "code",
   "metadata": {},
   "source": [
    "monitorGovernanceActions(simpleMetadataCatalog, devPlatformName, devPlatformURL, petersUserId)"
   ],
   "outputs": [],
   "execution_count": null
  },
  {
   "cell_type": "markdown",
   "metadata": {},
   "source": [
    "----\n",
    "\n",
    "## Summary\n",
    "\n",
    "This demo has showed how to configure the Integration Daemon and Engine Host governance servers with specialized connectors written to automate metadata maintenance and governance.\n"
   ]
  },
  {
   "cell_type": "markdown",
   "metadata": {},
   "source": [
    "----\n",
    "## Where to next\n",
    "\n",
    "* [Automated Curation](../asset-management-labs/automated-curation.ipynb) - follow Erin and Peter as they build a comprehensive onboarding pipeline by combining integration connectors with governance action services in a [Governance Action Process](https://egeria-project.org/concepts/governance-action-process/).\n",
    "\n",
    "----"
   ]
  }
 ],
 "metadata": {
  "kernelspec": {
   "display_name": "Python 3",
   "language": "python",
   "name": "python3"
  },
  "language_info": {
   "codemirror_mode": {
    "name": "ipython",
    "version": 3
   },
   "file_extension": ".py",
   "mimetype": "text/x-python",
   "name": "python",
   "nbconvert_exporter": "python",
   "pygments_lexer": "ipython3",
   "version": "3.7.3"
  }
 },
 "nbformat": 4,
 "nbformat_minor": 4
}
